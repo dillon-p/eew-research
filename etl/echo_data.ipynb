{
 "cells": [
  {
   "cell_type": "code",
   "execution_count": 1,
   "id": "467b7e45",
   "metadata": {},
   "outputs": [],
   "source": [
    "from ECHO_modules.make_data_sets import make_data_sets # Import relevant module"
   ]
  },
  {
   "cell_type": "code",
   "execution_count": 19,
   "id": "94e526c2",
   "metadata": {},
   "outputs": [],
   "source": [
    "import numpy as np\n",
    "import pandas as pd"
   ]
  },
  {
   "cell_type": "code",
   "execution_count": null,
   "id": "77fc4c93",
   "metadata": {},
   "outputs": [
    {
     "name": "stdout",
     "output_type": "stream",
     "text": [
      "Data last modified: 2025-03-30 00:00:00\n",
      "There were 1553 program records found\n",
      "Data last modified: 2025-03-30 00:00:00\n",
      "There were 682 program records found\n"
     ]
    },
    {
     "data": {
      "text/plain": [
       "array(['Standards Applicable to Generators of HW: Pre-Transport Requirements Applicable to Small and Large Quantity Generators',\n",
       "       'Standards for Universal Waste Management: Standards for Small Quantity Handlers ',\n",
       "       'Standards Applicable to Generators of HW: General',\n",
       "       'ID and Listing of HW: General',\n",
       "       'Standards Applicable to Generators of HW: Manifest Requirements Applicable to Small and Large Quantity Generators',\n",
       "       'State Statutory or Regulatory requirements that are broader-in-scope than the federal RCRA requirements',\n",
       "       'Standards for Used Oil: Generators',\n",
       "       'Interim Status Standards for Owners and Operators of HW TSDs: Preparedness and Prevention',\n",
       "       'Interim Status Standards for Owners and Operators of HW TSDs: General Facility Standards',\n",
       "       'Interim Status Standards for Owners and Operators of HW TSDs: Contingency Plan and Emergency Procedures',\n",
       "       'Interim Status Standards for Owners and Operators of HW TSDs: Use and Management of Containers',\n",
       "       'Standards for Owners and Operators of HW TSDs: General',\n",
       "       'Land Disposal Restrictions: General',\n",
       "       'Standards for Owners and Operators of HW TSDs: Financial Requirements',\n",
       "       'Interim Status Standards for Owners and Operators of HW TSDs: Tank Systems',\n",
       "       'Violation of a Federal or State Statute',\n",
       "       'Violation of a permit condition or requirement',\n",
       "       'Standards Applicable to Transporters of HW: General',\n",
       "       'ID and Listing of HW: Air Emissions Standards for Tanks and Containers\\r\\n',\n",
       "       'Standards for Owners and Operators of HW TSDs: Use and Management of Containers',\n",
       "       'Standards Applicable to Transporters of HW: Compliance with the Manifest System and Recordkeeping',\n",
       "       'Standards for Owners and Operators of HW TSDs: Manifest System, Recordkeeping and Reporting',\n",
       "       'Violation of a formal enforcement agreement or order. (3008(a) or 3013)',\n",
       "       'Standards for Universal Waste Management: Standards for Large Quantity Handlers ',\n",
       "       'Standards Applicable to Recordkeeping and Reporting Applicable to Small and Large Quantity Generators',\n",
       "       'Standards for Universal Waste Management: Standards for Transporters',\n",
       "       'Standards Applicable to Generators of HW: Preparedness. Prevention, and Emergency Procedures for LQGs',\n",
       "       'Standards for the Management of Specific HW and Specific Types of HW Management Facilities: Recyclable Materials Utilized for Precious Metal Recovery',\n",
       "       'Standards for Used Oi:l Processors and Re-Refiners',\n",
       "       'EPA Administered Permit Programs: the HW Permit Program Permit Application',\n",
       "       'Interim Status Standards for Owners and Operators of HW TSDs: Manifest System, Recordkeeping and Reporting',\n",
       "       'EPA Administered Permit Programs: the HW Permit Program General Information',\n",
       "       'Standards Applicable to Generators of HW: Exports of HW'],\n",
       "      dtype=object)"
      ]
     },
     "execution_count": 16,
     "metadata": {},
     "output_type": "execute_result"
    }
   ],
   "source": [
    "year_range = [y for y in range(2004, 2022)]\n",
    "data_sets = make_data_sets(['Toxic Releases', 'RCRA Violations']) # Create data sets for the specified year range\n",
    "erie_toxic_releases = data_sets['Toxic Releases'].store_results(\n",
    "    region_type=\"County\", region_value=[\"ERIE\"], state=\"NY\", years=[2004, 2021],)\n",
    " # Show the results as a dataframe\n",
    "\n",
    "erie_rcra_violations = data_sets[\"RCRA Violations\"].store_results(\n",
    "    region_type=\"County\", region_value=[\"ERIE\"], state=\"NY\", years=[2004, 2021],)\n",
    "# erie_rcra_violations.dataframe['VIOLATION_TYPE_DESC'].unique() # Show"
   ]
  },
  {
   "cell_type": "code",
   "execution_count": 20,
   "id": "7fb4ae13",
   "metadata": {},
   "outputs": [
    {
     "data": {
      "text/plain": [
       "array(['1,1,2-Trichloroethane', '1,2,4-Trimethylbenzene', '1-Butanol',\n",
       "       '2,4-Dimethylphenol', '3-Chloro-2-methyl-1-propene',\n",
       "       'Acetaldehyde', 'Alumina', 'Ammonia', 'Anthracene', 'Antimony',\n",
       "       'Barium compounds -- TRI ', 'Benzene', 'Benzo[ghi]perylene',\n",
       "       'Bifenthrin', 'Butyl acrylate', 'Carbon disulfide',\n",
       "       'Certain glycol ethers, a limited set -- TRI', 'Chlorine',\n",
       "       'Chromium', 'Chromium compounds -- TRI', 'Cobalt',\n",
       "       'Cobalt compounds', 'Copper', 'Copper compounds -- TRI',\n",
       "       'Creosote', 'Cresol', 'Cumene', 'Cyclohexane',\n",
       "       'Di(2-ethylhexyl) phthalate', 'Dibenzofuran',\n",
       "       'Diisocyanates -- TRI', 'Dioxin and dioxin-like compounds -- TRI',\n",
       "       'Ethylbenzene', 'Ethylene', 'Ethylene glycol', 'Formaldehyde',\n",
       "       'Formic acid', 'Hexane', 'Hydrochloric acid', 'Hydrofluoric acid',\n",
       "       'Hydrogen sulfide', 'Lead', 'Lead compounds', 'Manganese',\n",
       "       'Manganese compounds', 'Mercury', 'Mercury compounds', 'Methanol',\n",
       "       'Methyl isobutyl ketone', 'Methyl isothiocyanate',\n",
       "       'Methyl methacrylate', 'Methylene chloride', 'N,N-Dimethylaniline',\n",
       "       'Naphthalene', 'Nickel', 'Nickel compounds',\n",
       "       'Nitrate compounds -- TRI', 'Nitric acid', 'Peracetic acid',\n",
       "       'Phenanthrene', 'Phenol', 'Polycyclic aromatic compounds -- TRI',\n",
       "       'Propylene', 'Silver', 'Sodium dimethyldithiocarbamate',\n",
       "       'Sodium methyldithiocarbamate', 'Sodium nitrite', 'Styrene',\n",
       "       'Sulfuric acid', 'Sulfuryl fluoride', 'Tetrabromobisphenol A',\n",
       "       'Tetrachloroethylene', 'Toluene', 'Trichloroethylene',\n",
       "       'Vinyl fluoride', 'Xylene', 'Zinc', 'Zinc compounds', 'o-Xylene'],\n",
       "      dtype=object)"
      ]
     },
     "execution_count": 20,
     "metadata": {},
     "output_type": "execute_result"
    }
   ],
   "source": [
    "np.sort(erie_toxic_releases.dataframe.POLLUTANT_NAME.unique())"
   ]
  },
  {
   "cell_type": "code",
   "execution_count": null,
   "id": "a3b46548",
   "metadata": {},
   "outputs": [],
   "source": []
  }
 ],
 "metadata": {
  "kernelspec": {
   "display_name": ".venv",
   "language": "python",
   "name": "python3"
  },
  "language_info": {
   "codemirror_mode": {
    "name": "ipython",
    "version": 3
   },
   "file_extension": ".py",
   "mimetype": "text/x-python",
   "name": "python",
   "nbconvert_exporter": "python",
   "pygments_lexer": "ipython3",
   "version": "3.10.16"
  }
 },
 "nbformat": 4,
 "nbformat_minor": 5
}
