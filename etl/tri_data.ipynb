{
 "cells": [
  {
   "cell_type": "code",
   "execution_count": 1,
   "id": "b530db76",
   "metadata": {},
   "outputs": [],
   "source": [
    "import os\n",
    "import numpy as np\n",
    "import pandas as pd"
   ]
  },
  {
   "cell_type": "code",
   "execution_count": 2,
   "id": "3a228494",
   "metadata": {},
   "outputs": [],
   "source": [
    "pd.set_option('display.max_columns', None)\n",
    "pd.set_option('display.max_rows', None)"
   ]
  },
  {
   "cell_type": "code",
   "execution_count": 4,
   "id": "1b61d3ac",
   "metadata": {},
   "outputs": [
    {
     "name": "stdout",
     "output_type": "stream",
     "text": [
      "/Users/dillonp/school/ai_for_good_final/etl\n"
     ]
    }
   ],
   "source": [
    "!pwd"
   ]
  },
  {
   "cell_type": "code",
   "execution_count": 2,
   "id": "51586da6",
   "metadata": {},
   "outputs": [
    {
     "name": "stderr",
     "output_type": "stream",
     "text": [
      "/var/folders/sl/93mkvz2541x52x3gyyqn3klh0000gn/T/ipykernel_7370/3934214452.py:10: DtypeWarning: Columns (15,18,30,31,32,33) have mixed types. Specify dtype option on import or set low_memory=False.\n",
      "  df_temp = pd.read_csv(os.path.join(directory, csv))\n"
     ]
    },
    {
     "name": "stdout",
     "output_type": "stream",
     "text": [
      "Loaded 82457 rows from 2011_us.csv --> 1\n"
     ]
    },
    {
     "name": "stderr",
     "output_type": "stream",
     "text": [
      "/var/folders/sl/93mkvz2541x52x3gyyqn3klh0000gn/T/ipykernel_7370/3934214452.py:10: DtypeWarning: Columns (15,18) have mixed types. Specify dtype option on import or set low_memory=False.\n",
      "  df_temp = pd.read_csv(os.path.join(directory, csv))\n"
     ]
    },
    {
     "name": "stdout",
     "output_type": "stream",
     "text": [
      "Loaded 83356 rows from 2013_us.csv --> 3\n"
     ]
    },
    {
     "name": "stderr",
     "output_type": "stream",
     "text": [
      "/var/folders/sl/93mkvz2541x52x3gyyqn3klh0000gn/T/ipykernel_7370/3934214452.py:10: DtypeWarning: Columns (15,18,23,25,26,27,28,30,31,32,33) have mixed types. Specify dtype option on import or set low_memory=False.\n",
      "  df_temp = pd.read_csv(os.path.join(directory, csv))\n"
     ]
    },
    {
     "name": "stdout",
     "output_type": "stream",
     "text": [
      "Loaded 91908 rows from 2005_us.csv --> 4\n"
     ]
    },
    {
     "name": "stderr",
     "output_type": "stream",
     "text": [
      "/var/folders/sl/93mkvz2541x52x3gyyqn3klh0000gn/T/ipykernel_7370/3934214452.py:10: DtypeWarning: Columns (15,18,30,31,32,33) have mixed types. Specify dtype option on import or set low_memory=False.\n",
      "  df_temp = pd.read_csv(os.path.join(directory, csv))\n"
     ]
    },
    {
     "name": "stdout",
     "output_type": "stream",
     "text": [
      "Loaded 81671 rows from 2009_us.csv --> 5\n"
     ]
    },
    {
     "name": "stderr",
     "output_type": "stream",
     "text": [
      "/var/folders/sl/93mkvz2541x52x3gyyqn3klh0000gn/T/ipykernel_7370/3934214452.py:10: DtypeWarning: Columns (18) have mixed types. Specify dtype option on import or set low_memory=False.\n",
      "  df_temp = pd.read_csv(os.path.join(directory, csv))\n"
     ]
    },
    {
     "name": "stdout",
     "output_type": "stream",
     "text": [
      "Loaded 81745 rows from 2017_us.csv --> 6\n"
     ]
    },
    {
     "name": "stderr",
     "output_type": "stream",
     "text": [
      "/var/folders/sl/93mkvz2541x52x3gyyqn3klh0000gn/T/ipykernel_7370/3934214452.py:10: DtypeWarning: Columns (15,18) have mixed types. Specify dtype option on import or set low_memory=False.\n",
      "  df_temp = pd.read_csv(os.path.join(directory, csv))\n"
     ]
    },
    {
     "name": "stdout",
     "output_type": "stream",
     "text": [
      "Loaded 78001 rows from 2021_us.csv --> 7\n"
     ]
    },
    {
     "name": "stderr",
     "output_type": "stream",
     "text": [
      "/var/folders/sl/93mkvz2541x52x3gyyqn3klh0000gn/T/ipykernel_7370/3934214452.py:10: DtypeWarning: Columns (15,18) have mixed types. Specify dtype option on import or set low_memory=False.\n",
      "  df_temp = pd.read_csv(os.path.join(directory, csv))\n"
     ]
    },
    {
     "name": "stdout",
     "output_type": "stream",
     "text": [
      "Loaded 82866 rows from 2015_us.csv --> 8\n"
     ]
    },
    {
     "name": "stderr",
     "output_type": "stream",
     "text": [
      "/var/folders/sl/93mkvz2541x52x3gyyqn3klh0000gn/T/ipykernel_7370/3934214452.py:10: DtypeWarning: Columns (15,18,31,32,33,34) have mixed types. Specify dtype option on import or set low_memory=False.\n",
      "  df_temp = pd.read_csv(os.path.join(directory, csv))\n"
     ]
    },
    {
     "name": "stdout",
     "output_type": "stream",
     "text": [
      "Loaded 88984 rows from 2007_us.csv --> 9\n"
     ]
    },
    {
     "name": "stderr",
     "output_type": "stream",
     "text": [
      "/var/folders/sl/93mkvz2541x52x3gyyqn3klh0000gn/T/ipykernel_7370/3934214452.py:10: DtypeWarning: Columns (15,18) have mixed types. Specify dtype option on import or set low_memory=False.\n",
      "  df_temp = pd.read_csv(os.path.join(directory, csv))\n"
     ]
    },
    {
     "name": "stdout",
     "output_type": "stream",
     "text": [
      "Loaded 80762 rows from 2019_us.csv --> 10\n"
     ]
    },
    {
     "name": "stderr",
     "output_type": "stream",
     "text": [
      "/var/folders/sl/93mkvz2541x52x3gyyqn3klh0000gn/T/ipykernel_7370/3934214452.py:10: DtypeWarning: Columns (15,18) have mixed types. Specify dtype option on import or set low_memory=False.\n",
      "  df_temp = pd.read_csv(os.path.join(directory, csv))\n"
     ]
    },
    {
     "name": "stdout",
     "output_type": "stream",
     "text": [
      "Loaded 77964 rows from 2023_us.csv --> 11\n"
     ]
    },
    {
     "name": "stderr",
     "output_type": "stream",
     "text": [
      "/var/folders/sl/93mkvz2541x52x3gyyqn3klh0000gn/T/ipykernel_7370/3934214452.py:10: DtypeWarning: Columns (10,15,18,30) have mixed types. Specify dtype option on import or set low_memory=False.\n",
      "  df_temp = pd.read_csv(os.path.join(directory, csv))\n"
     ]
    },
    {
     "name": "stdout",
     "output_type": "stream",
     "text": [
      "Loaded 82124 rows from 2010_us.csv --> 12\n"
     ]
    },
    {
     "name": "stderr",
     "output_type": "stream",
     "text": [
      "/var/folders/sl/93mkvz2541x52x3gyyqn3klh0000gn/T/ipykernel_7370/3934214452.py:10: DtypeWarning: Columns (15,18,30,31,32,33) have mixed types. Specify dtype option on import or set low_memory=False.\n",
      "  df_temp = pd.read_csv(os.path.join(directory, csv))\n"
     ]
    },
    {
     "name": "stdout",
     "output_type": "stream",
     "text": [
      "Loaded 82842 rows from 2012_us.csv --> 13\n"
     ]
    },
    {
     "name": "stderr",
     "output_type": "stream",
     "text": [
      "/var/folders/sl/93mkvz2541x52x3gyyqn3klh0000gn/T/ipykernel_7370/3934214452.py:10: DtypeWarning: Columns (18) have mixed types. Specify dtype option on import or set low_memory=False.\n",
      "  df_temp = pd.read_csv(os.path.join(directory, csv))\n"
     ]
    },
    {
     "name": "stdout",
     "output_type": "stream",
     "text": [
      "Loaded 78488 rows from 2020_us.csv --> 14\n"
     ]
    },
    {
     "name": "stderr",
     "output_type": "stream",
     "text": [
      "/var/folders/sl/93mkvz2541x52x3gyyqn3klh0000gn/T/ipykernel_7370/3934214452.py:10: DtypeWarning: Columns (15,18,23,25,26,30,31) have mixed types. Specify dtype option on import or set low_memory=False.\n",
      "  df_temp = pd.read_csv(os.path.join(directory, csv))\n"
     ]
    },
    {
     "name": "stdout",
     "output_type": "stream",
     "text": [
      "Loaded 92159 rows from 2004_us.csv --> 15\n"
     ]
    },
    {
     "name": "stderr",
     "output_type": "stream",
     "text": [
      "/var/folders/sl/93mkvz2541x52x3gyyqn3klh0000gn/T/ipykernel_7370/3934214452.py:10: DtypeWarning: Columns (18) have mixed types. Specify dtype option on import or set low_memory=False.\n",
      "  df_temp = pd.read_csv(os.path.join(directory, csv))\n"
     ]
    },
    {
     "name": "stdout",
     "output_type": "stream",
     "text": [
      "Loaded 81602 rows from 2016_us.csv --> 16\n"
     ]
    },
    {
     "name": "stderr",
     "output_type": "stream",
     "text": [
      "/var/folders/sl/93mkvz2541x52x3gyyqn3klh0000gn/T/ipykernel_7370/3934214452.py:10: DtypeWarning: Columns (15,18,30,31,32,33) have mixed types. Specify dtype option on import or set low_memory=False.\n",
      "  df_temp = pd.read_csv(os.path.join(directory, csv))\n"
     ]
    },
    {
     "name": "stdout",
     "output_type": "stream",
     "text": [
      "Loaded 86867 rows from 2008_us.csv --> 17\n"
     ]
    },
    {
     "name": "stderr",
     "output_type": "stream",
     "text": [
      "/var/folders/sl/93mkvz2541x52x3gyyqn3klh0000gn/T/ipykernel_7370/3934214452.py:10: DtypeWarning: Columns (15,18) have mixed types. Specify dtype option on import or set low_memory=False.\n",
      "  df_temp = pd.read_csv(os.path.join(directory, csv))\n"
     ]
    },
    {
     "name": "stdout",
     "output_type": "stream",
     "text": [
      "Loaded 79687 rows from 2022_us.csv --> 18\n"
     ]
    },
    {
     "name": "stderr",
     "output_type": "stream",
     "text": [
      "/var/folders/sl/93mkvz2541x52x3gyyqn3klh0000gn/T/ipykernel_7370/3934214452.py:10: DtypeWarning: Columns (15,18) have mixed types. Specify dtype option on import or set low_memory=False.\n",
      "  df_temp = pd.read_csv(os.path.join(directory, csv))\n"
     ]
    },
    {
     "name": "stdout",
     "output_type": "stream",
     "text": [
      "Loaded 83590 rows from 2014_us.csv --> 19\n"
     ]
    },
    {
     "name": "stderr",
     "output_type": "stream",
     "text": [
      "/var/folders/sl/93mkvz2541x52x3gyyqn3klh0000gn/T/ipykernel_7370/3934214452.py:10: DtypeWarning: Columns (18) have mixed types. Specify dtype option on import or set low_memory=False.\n",
      "  df_temp = pd.read_csv(os.path.join(directory, csv))\n"
     ]
    },
    {
     "name": "stdout",
     "output_type": "stream",
     "text": [
      "Loaded 81748 rows from 2018_us.csv --> 20\n"
     ]
    },
    {
     "name": "stderr",
     "output_type": "stream",
     "text": [
      "/var/folders/sl/93mkvz2541x52x3gyyqn3klh0000gn/T/ipykernel_7370/3934214452.py:10: DtypeWarning: Columns (15,18,31,32,33) have mixed types. Specify dtype option on import or set low_memory=False.\n",
      "  df_temp = pd.read_csv(os.path.join(directory, csv))\n"
     ]
    },
    {
     "name": "stdout",
     "output_type": "stream",
     "text": [
      "Loaded 90845 rows from 2006_us.csv --> 21\n"
     ]
    }
   ],
   "source": [
    "df = pd.DataFrame()\n",
    "# Load all CSV files in the specified directory\n",
    "directory = '../data/'\n",
    "cnt = 0\n",
    "for csv in os.listdir(directory):\n",
    "    cnt += 1\n",
    "    if csv.endswith('.csv'):\n",
    "        # print(f'Loading {csv}')\n",
    "        # Read the CSV file into a DataFrame\n",
    "        df_temp = pd.read_csv(os.path.join(directory, csv))\n",
    "        # Append the DataFrame to the main DataFrame\n",
    "        df = pd.concat([df, df_temp], ignore_index=True)\n",
    "        print(f'Loaded {df_temp.shape[0]} rows from {csv} --> {cnt}')\n"
   ]
  },
  {
   "cell_type": "code",
   "execution_count": 3,
   "id": "0b2f735a",
   "metadata": {},
   "outputs": [
    {
     "data": {
      "text/html": [
       "<div>\n",
       "<style scoped>\n",
       "    .dataframe tbody tr th:only-of-type {\n",
       "        vertical-align: middle;\n",
       "    }\n",
       "\n",
       "    .dataframe tbody tr th {\n",
       "        vertical-align: top;\n",
       "    }\n",
       "\n",
       "    .dataframe thead th {\n",
       "        text-align: right;\n",
       "    }\n",
       "</style>\n",
       "<table border=\"1\" class=\"dataframe\">\n",
       "  <thead>\n",
       "    <tr style=\"text-align: right;\">\n",
       "      <th></th>\n",
       "      <th>1. YEAR</th>\n",
       "      <th>2. TRIFD</th>\n",
       "      <th>3. FRS ID</th>\n",
       "      <th>4. FACILITY NAME</th>\n",
       "      <th>5. STREET ADDRESS</th>\n",
       "      <th>6. CITY</th>\n",
       "      <th>7. COUNTY</th>\n",
       "      <th>8. ST</th>\n",
       "      <th>9. ZIP</th>\n",
       "      <th>10. BIA</th>\n",
       "      <th>...</th>\n",
       "      <th>113. 8.2 - ENERGY RECOVER ON</th>\n",
       "      <th>114. 8.3 - ENERGY RECOVER OF</th>\n",
       "      <th>115. 8.4 - RECYCLING ON SITE</th>\n",
       "      <th>116. 8.5 - RECYCLING OFF SIT</th>\n",
       "      <th>117. 8.6 - TREATMENT ON SITE</th>\n",
       "      <th>118. 8.7 - TREATMENT OFF SITE</th>\n",
       "      <th>119. PRODUCTION WSTE (8.1-8.7)</th>\n",
       "      <th>120. 8.8 - ONE-TIME RELEASE</th>\n",
       "      <th>121. PROD_RATIO_OR_ ACTIVITY</th>\n",
       "      <th>122. 8.9 - PRODUCTION RATIO</th>\n",
       "    </tr>\n",
       "  </thead>\n",
       "  <tbody>\n",
       "    <tr>\n",
       "      <th>0</th>\n",
       "      <td>2011</td>\n",
       "      <td>72956BKRTCI40LE</td>\n",
       "      <td>1.100005e+11</td>\n",
       "      <td>BEKAERT CORP</td>\n",
       "      <td>1881 BEKAERT DR</td>\n",
       "      <td>VAN BUREN</td>\n",
       "      <td>CRAWFORD</td>\n",
       "      <td>AR</td>\n",
       "      <td>72956</td>\n",
       "      <td>NaN</td>\n",
       "      <td>...</td>\n",
       "      <td>0.0</td>\n",
       "      <td>0.0</td>\n",
       "      <td>0.0</td>\n",
       "      <td>2783728.0</td>\n",
       "      <td>0.0</td>\n",
       "      <td>0.0</td>\n",
       "      <td>2817115.5</td>\n",
       "      <td>NaN</td>\n",
       "      <td>NaN</td>\n",
       "      <td>0.93</td>\n",
       "    </tr>\n",
       "    <tr>\n",
       "      <th>1</th>\n",
       "      <td>2011</td>\n",
       "      <td>43465WLBRD30610</td>\n",
       "      <td>1.100004e+11</td>\n",
       "      <td>MSC WALBRIDGE COATINGS INC</td>\n",
       "      <td>30610 E BROADWAY ST</td>\n",
       "      <td>WALBRIDGE</td>\n",
       "      <td>WOOD</td>\n",
       "      <td>OH</td>\n",
       "      <td>43465</td>\n",
       "      <td>NaN</td>\n",
       "      <td>...</td>\n",
       "      <td>0.0</td>\n",
       "      <td>0.0</td>\n",
       "      <td>10070.0</td>\n",
       "      <td>36937.0</td>\n",
       "      <td>0.0</td>\n",
       "      <td>0.0</td>\n",
       "      <td>52987.0</td>\n",
       "      <td>NaN</td>\n",
       "      <td>NaN</td>\n",
       "      <td>0.91</td>\n",
       "    </tr>\n",
       "    <tr>\n",
       "      <th>2</th>\n",
       "      <td>2011</td>\n",
       "      <td>50588BPNCXFLIND</td>\n",
       "      <td>1.100006e+11</td>\n",
       "      <td>TYSON FRESH MEATS INC</td>\n",
       "      <td>1009 RICHLAND ST.</td>\n",
       "      <td>STORM LAKE</td>\n",
       "      <td>BUENA VISTA</td>\n",
       "      <td>IA</td>\n",
       "      <td>50588</td>\n",
       "      <td>NaN</td>\n",
       "      <td>...</td>\n",
       "      <td>0.0</td>\n",
       "      <td>0.0</td>\n",
       "      <td>0.0</td>\n",
       "      <td>0.0</td>\n",
       "      <td>0.0</td>\n",
       "      <td>42793.0</td>\n",
       "      <td>73103.0</td>\n",
       "      <td>NaN</td>\n",
       "      <td>NaN</td>\n",
       "      <td>1.04</td>\n",
       "    </tr>\n",
       "    <tr>\n",
       "      <th>3</th>\n",
       "      <td>2011</td>\n",
       "      <td>15010BRGHT51045</td>\n",
       "      <td>1.100003e+11</td>\n",
       "      <td>BRIGHTON ELECTRIC STEEL CASTING CO</td>\n",
       "      <td>510 45TH ST</td>\n",
       "      <td>BEAVER FALLS</td>\n",
       "      <td>BEAVER</td>\n",
       "      <td>PA</td>\n",
       "      <td>15010</td>\n",
       "      <td>NaN</td>\n",
       "      <td>...</td>\n",
       "      <td>0.0</td>\n",
       "      <td>0.0</td>\n",
       "      <td>14818.0</td>\n",
       "      <td>0.0</td>\n",
       "      <td>0.0</td>\n",
       "      <td>0.0</td>\n",
       "      <td>15574.0</td>\n",
       "      <td>NaN</td>\n",
       "      <td>NaN</td>\n",
       "      <td>0.76</td>\n",
       "    </tr>\n",
       "    <tr>\n",
       "      <th>4</th>\n",
       "      <td>2011</td>\n",
       "      <td>22701QRLSP15427</td>\n",
       "      <td>1.100003e+11</td>\n",
       "      <td>QUARLES PETROLEUM INC. CULPEPER BULK PLANT</td>\n",
       "      <td>15427 BRANDY RD</td>\n",
       "      <td>CULPEPER</td>\n",
       "      <td>CULPEPER</td>\n",
       "      <td>VA</td>\n",
       "      <td>22701</td>\n",
       "      <td>NaN</td>\n",
       "      <td>...</td>\n",
       "      <td>0.0</td>\n",
       "      <td>0.0</td>\n",
       "      <td>0.0</td>\n",
       "      <td>0.0</td>\n",
       "      <td>0.0</td>\n",
       "      <td>0.0</td>\n",
       "      <td>0.0</td>\n",
       "      <td>NaN</td>\n",
       "      <td>NaN</td>\n",
       "      <td>NaN</td>\n",
       "    </tr>\n",
       "  </tbody>\n",
       "</table>\n",
       "<p>5 rows × 122 columns</p>\n",
       "</div>"
      ],
      "text/plain": [
       "   1. YEAR         2. TRIFD     3. FRS ID  \\\n",
       "0     2011  72956BKRTCI40LE  1.100005e+11   \n",
       "1     2011  43465WLBRD30610  1.100004e+11   \n",
       "2     2011  50588BPNCXFLIND  1.100006e+11   \n",
       "3     2011  15010BRGHT51045  1.100003e+11   \n",
       "4     2011  22701QRLSP15427  1.100003e+11   \n",
       "\n",
       "                             4. FACILITY NAME    5. STREET ADDRESS  \\\n",
       "0                                BEKAERT CORP      1881 BEKAERT DR   \n",
       "1                  MSC WALBRIDGE COATINGS INC  30610 E BROADWAY ST   \n",
       "2                       TYSON FRESH MEATS INC    1009 RICHLAND ST.   \n",
       "3          BRIGHTON ELECTRIC STEEL CASTING CO          510 45TH ST   \n",
       "4  QUARLES PETROLEUM INC. CULPEPER BULK PLANT      15427 BRANDY RD   \n",
       "\n",
       "        6. CITY    7. COUNTY 8. ST  9. ZIP  10. BIA  ...  \\\n",
       "0     VAN BUREN     CRAWFORD    AR   72956      NaN  ...   \n",
       "1     WALBRIDGE         WOOD    OH   43465      NaN  ...   \n",
       "2    STORM LAKE  BUENA VISTA    IA   50588      NaN  ...   \n",
       "3  BEAVER FALLS       BEAVER    PA   15010      NaN  ...   \n",
       "4      CULPEPER     CULPEPER    VA   22701      NaN  ...   \n",
       "\n",
       "  113. 8.2 - ENERGY RECOVER ON  114. 8.3 - ENERGY RECOVER OF  \\\n",
       "0                          0.0                           0.0   \n",
       "1                          0.0                           0.0   \n",
       "2                          0.0                           0.0   \n",
       "3                          0.0                           0.0   \n",
       "4                          0.0                           0.0   \n",
       "\n",
       "   115. 8.4 - RECYCLING ON SITE 116. 8.5 - RECYCLING OFF SIT  \\\n",
       "0                           0.0                    2783728.0   \n",
       "1                       10070.0                      36937.0   \n",
       "2                           0.0                          0.0   \n",
       "3                       14818.0                          0.0   \n",
       "4                           0.0                          0.0   \n",
       "\n",
       "  117. 8.6 - TREATMENT ON SITE 118. 8.7 - TREATMENT OFF SITE  \\\n",
       "0                          0.0                           0.0   \n",
       "1                          0.0                           0.0   \n",
       "2                          0.0                       42793.0   \n",
       "3                          0.0                           0.0   \n",
       "4                          0.0                           0.0   \n",
       "\n",
       "  119. PRODUCTION WSTE (8.1-8.7) 120. 8.8 - ONE-TIME RELEASE  \\\n",
       "0                      2817115.5                         NaN   \n",
       "1                        52987.0                         NaN   \n",
       "2                        73103.0                         NaN   \n",
       "3                        15574.0                         NaN   \n",
       "4                            0.0                         NaN   \n",
       "\n",
       "  121. PROD_RATIO_OR_ ACTIVITY 122. 8.9 - PRODUCTION RATIO  \n",
       "0                          NaN                        0.93  \n",
       "1                          NaN                        0.91  \n",
       "2                          NaN                        1.04  \n",
       "3                          NaN                        0.76  \n",
       "4                          NaN                         NaN  \n",
       "\n",
       "[5 rows x 122 columns]"
      ]
     },
     "execution_count": 3,
     "metadata": {},
     "output_type": "execute_result"
    }
   ],
   "source": [
    "df.head()"
   ]
  },
  {
   "cell_type": "code",
   "execution_count": 4,
   "id": "f424468d",
   "metadata": {},
   "outputs": [],
   "source": [
    "data = df.copy()"
   ]
  },
  {
   "cell_type": "code",
   "execution_count": 5,
   "id": "1c1c7b4a",
   "metadata": {},
   "outputs": [],
   "source": [
    "new_cols = [c.split('.',1)[1].strip() for c in data.columns]\n",
    "data.columns = new_cols\n",
    "# df.head()\n"
   ]
  },
  {
   "cell_type": "code",
   "execution_count": 6,
   "id": "31b0420a",
   "metadata": {},
   "outputs": [],
   "source": [
    "coi = [\n",
    "    'YEAR', \n",
    "    'ST', \n",
    "    'ZIP', \n",
    "    'CHEMICAL', \n",
    "    'CARCINOGEN',\n",
    "    'LATITUDE',\n",
    "    'LONGITUDE',\n",
    "    'FEDERAL FACILITY',\n",
    "    'INDUSTRY SECTOR',\n",
    "    'UNIT OF MEASURE',\n",
    "    'TOTAL RELEASES'\n",
    "    ]"
   ]
  },
  {
   "cell_type": "code",
   "execution_count": 7,
   "id": "262ca096",
   "metadata": {},
   "outputs": [],
   "source": [
    "df_ = data.loc[:, coi]\n",
    "# df_.info(show_counts=True)"
   ]
  },
  {
   "cell_type": "code",
   "execution_count": 3,
   "id": "e9fe3956",
   "metadata": {},
   "outputs": [
    {
     "data": {
      "text/html": [
       "<div>\n",
       "<style scoped>\n",
       "    .dataframe tbody tr th:only-of-type {\n",
       "        vertical-align: middle;\n",
       "    }\n",
       "\n",
       "    .dataframe tbody tr th {\n",
       "        vertical-align: top;\n",
       "    }\n",
       "\n",
       "    .dataframe thead th {\n",
       "        text-align: right;\n",
       "    }\n",
       "</style>\n",
       "<table border=\"1\" class=\"dataframe\">\n",
       "  <thead>\n",
       "    <tr style=\"text-align: right;\">\n",
       "      <th></th>\n",
       "      <th>ledb_candid</th>\n",
       "      <th>full_name</th>\n",
       "      <th>firstname</th>\n",
       "      <th>lastname</th>\n",
       "      <th>fips</th>\n",
       "      <th>geo_name</th>\n",
       "      <th>state_abb</th>\n",
       "      <th>office_consolidated</th>\n",
       "      <th>year</th>\n",
       "      <th>month</th>\n",
       "      <th>district</th>\n",
       "      <th>contest</th>\n",
       "      <th>votes</th>\n",
       "      <th>vote_share</th>\n",
       "      <th>n_winners</th>\n",
       "      <th>winner</th>\n",
       "      <th>incumbent</th>\n",
       "      <th>contributor.cfscore</th>\n",
       "      <th>bonica.cid</th>\n",
       "      <th>prob_democrat</th>\n",
       "      <th>prob_republican</th>\n",
       "      <th>pid_est</th>\n",
       "      <th>prob_female</th>\n",
       "      <th>prob_male</th>\n",
       "      <th>gender_est</th>\n",
       "      <th>prob_black</th>\n",
       "      <th>prob_white</th>\n",
       "      <th>prob_hispanic</th>\n",
       "      <th>prob_asian</th>\n",
       "      <th>prob_other</th>\n",
       "      <th>race_est</th>\n",
       "      <th>ballotpedia_url</th>\n",
       "    </tr>\n",
       "  </thead>\n",
       "  <tbody>\n",
       "    <tr>\n",
       "      <th>8</th>\n",
       "      <td>7790</td>\n",
       "      <td>toni preckwinkle</td>\n",
       "      <td>toni</td>\n",
       "      <td>preckwinkle</td>\n",
       "      <td>17031</td>\n",
       "      <td>cook</td>\n",
       "      <td>IL</td>\n",
       "      <td>County Executive</td>\n",
       "      <td>2018</td>\n",
       "      <td>11.0</td>\n",
       "      <td>NaN</td>\n",
       "      <td>17031_2018_11_cook_IL_County Executive_NA_1</td>\n",
       "      <td>1355407.0</td>\n",
       "      <td>1.0</td>\n",
       "      <td>1</td>\n",
       "      <td>win</td>\n",
       "      <td>1.0</td>\n",
       "      <td>-0.7</td>\n",
       "      <td>5.000004e+15</td>\n",
       "      <td>1.0</td>\n",
       "      <td>0.0</td>\n",
       "      <td>D</td>\n",
       "      <td>1.0</td>\n",
       "      <td>0.0</td>\n",
       "      <td>F</td>\n",
       "      <td>0.23</td>\n",
       "      <td>0.5</td>\n",
       "      <td>0.1</td>\n",
       "      <td>0.16</td>\n",
       "      <td>0.0</td>\n",
       "      <td>caucasian</td>\n",
       "      <td>https://ballotpedia.org/Toni_Preckwinkle</td>\n",
       "    </tr>\n",
       "    <tr>\n",
       "      <th>20</th>\n",
       "      <td>7790</td>\n",
       "      <td>toni preckwinkle</td>\n",
       "      <td>toni</td>\n",
       "      <td>preckwinkle</td>\n",
       "      <td>17031</td>\n",
       "      <td>cook</td>\n",
       "      <td>IL</td>\n",
       "      <td>County Executive</td>\n",
       "      <td>2014</td>\n",
       "      <td>11.0</td>\n",
       "      <td>NaN</td>\n",
       "      <td>17031_2014_11_cook_IL_County Executive_NA_1</td>\n",
       "      <td>1072886.0</td>\n",
       "      <td>1.0</td>\n",
       "      <td>1</td>\n",
       "      <td>win</td>\n",
       "      <td>1.0</td>\n",
       "      <td>-0.7</td>\n",
       "      <td>5.000004e+15</td>\n",
       "      <td>1.0</td>\n",
       "      <td>0.0</td>\n",
       "      <td>D</td>\n",
       "      <td>1.0</td>\n",
       "      <td>0.0</td>\n",
       "      <td>F</td>\n",
       "      <td>0.23</td>\n",
       "      <td>0.5</td>\n",
       "      <td>0.1</td>\n",
       "      <td>0.16</td>\n",
       "      <td>0.0</td>\n",
       "      <td>caucasian</td>\n",
       "      <td>https://ballotpedia.org/Toni_Preckwinkle</td>\n",
       "    </tr>\n",
       "  </tbody>\n",
       "</table>\n",
       "</div>"
      ],
      "text/plain": [
       "    ledb_candid         full_name firstname     lastname   fips geo_name  \\\n",
       "8          7790  toni preckwinkle      toni  preckwinkle  17031     cook   \n",
       "20         7790  toni preckwinkle      toni  preckwinkle  17031     cook   \n",
       "\n",
       "   state_abb office_consolidated  year  month district  \\\n",
       "8         IL    County Executive  2018   11.0      NaN   \n",
       "20        IL    County Executive  2014   11.0      NaN   \n",
       "\n",
       "                                        contest      votes  vote_share  \\\n",
       "8   17031_2018_11_cook_IL_County Executive_NA_1  1355407.0         1.0   \n",
       "20  17031_2014_11_cook_IL_County Executive_NA_1  1072886.0         1.0   \n",
       "\n",
       "    n_winners winner  incumbent  contributor.cfscore    bonica.cid  \\\n",
       "8           1    win        1.0                 -0.7  5.000004e+15   \n",
       "20          1    win        1.0                 -0.7  5.000004e+15   \n",
       "\n",
       "    prob_democrat  prob_republican pid_est  prob_female  prob_male gender_est  \\\n",
       "8             1.0              0.0       D          1.0        0.0          F   \n",
       "20            1.0              0.0       D          1.0        0.0          F   \n",
       "\n",
       "    prob_black  prob_white  prob_hispanic  prob_asian  prob_other   race_est  \\\n",
       "8         0.23         0.5            0.1        0.16         0.0  caucasian   \n",
       "20        0.23         0.5            0.1        0.16         0.0  caucasian   \n",
       "\n",
       "                             ballotpedia_url  \n",
       "8   https://ballotpedia.org/Toni_Preckwinkle  \n",
       "20  https://ballotpedia.org/Toni_Preckwinkle  "
      ]
     },
     "execution_count": 3,
     "metadata": {},
     "output_type": "execute_result"
    }
   ],
   "source": [
    "candidates = pd.read_csv('../candidate/ledb_candidatelevel.csv')\n",
    "candidates = candidates[(candidates.year >= 2004) & (candidates.winner == 'win') & (candidates.office_consolidated.isin(['County Executive','County Legislature','City Council']))]\n",
    "\n",
    "candidates.head(2)"
   ]
  },
  {
   "cell_type": "code",
   "execution_count": 4,
   "id": "377a72b9",
   "metadata": {},
   "outputs": [],
   "source": [
    "coi = [\n",
    "    'year',\n",
    "    'state_abb',\n",
    "    'fips',\n",
    "    'pid_est',\n",
    "    'office_consolidated',\n",
    "]"
   ]
  },
  {
   "cell_type": "code",
   "execution_count": 5,
   "id": "ed27bb1d",
   "metadata": {},
   "outputs": [],
   "source": [
    "cans = candidates.loc[:, coi].copy()\n",
    "cans['fips_int'] = pd.to_numeric(cans['fips'], errors='coerce')"
   ]
  },
  {
   "cell_type": "code",
   "execution_count": 6,
   "id": "232fc8ed",
   "metadata": {},
   "outputs": [
    {
     "name": "stdout",
     "output_type": "stream",
     "text": [
      "<class 'pandas.core.frame.DataFrame'>\n",
      "Index: 33759 entries, 8 to 126573\n",
      "Data columns (total 6 columns):\n",
      " #   Column               Non-Null Count  Dtype \n",
      "---  ------               --------------  ----- \n",
      " 0   year                 33759 non-null  int64 \n",
      " 1   state_abb            33759 non-null  object\n",
      " 2   fips                 33759 non-null  object\n",
      " 3   pid_est              32017 non-null  object\n",
      " 4   office_consolidated  33759 non-null  object\n",
      " 5   fips_int             33759 non-null  int64 \n",
      "dtypes: int64(2), object(4)\n",
      "memory usage: 1.8+ MB\n"
     ]
    }
   ],
   "source": [
    "cans.info(show_counts=True)"
   ]
  },
  {
   "cell_type": "code",
   "execution_count": null,
   "id": "36052411",
   "metadata": {},
   "outputs": [],
   "source": []
  },
  {
   "cell_type": "code",
   "execution_count": 36,
   "id": "ea95df69",
   "metadata": {},
   "outputs": [
    {
     "data": {
      "text/html": [
       "<div>\n",
       "<style scoped>\n",
       "    .dataframe tbody tr th:only-of-type {\n",
       "        vertical-align: middle;\n",
       "    }\n",
       "\n",
       "    .dataframe tbody tr th {\n",
       "        vertical-align: top;\n",
       "    }\n",
       "\n",
       "    .dataframe thead th {\n",
       "        text-align: right;\n",
       "    }\n",
       "</style>\n",
       "<table border=\"1\" class=\"dataframe\">\n",
       "  <thead>\n",
       "    <tr style=\"text-align: right;\">\n",
       "      <th></th>\n",
       "      <th>ZIP</th>\n",
       "      <th>ZIP_STRING_LEADING_ZERO</th>\n",
       "      <th>ZIP_STRING</th>\n",
       "      <th>FIPS</th>\n",
       "      <th>FIPS_STRING</th>\n",
       "      <th>STATE</th>\n",
       "      <th>CNTY_NAME</th>\n",
       "      <th>_BATCH_ID_</th>\n",
       "      <th>_BATCH_LAST_RUN_</th>\n",
       "    </tr>\n",
       "  </thead>\n",
       "  <tbody>\n",
       "    <tr>\n",
       "      <th>0</th>\n",
       "      <td>0</td>\n",
       "      <td>STRING</td>\n",
       "      <td>STRING</td>\n",
       "      <td>0.0</td>\n",
       "      <td>STRING</td>\n",
       "      <td>STRING</td>\n",
       "      <td>STRING</td>\n",
       "      <td>57.0</td>\n",
       "      <td>2024-03-13 21:34:03</td>\n",
       "    </tr>\n",
       "    <tr>\n",
       "      <th>1</th>\n",
       "      <td>36003</td>\n",
       "      <td>36003</td>\n",
       "      <td>36003</td>\n",
       "      <td>1001.0</td>\n",
       "      <td>1001</td>\n",
       "      <td>AL</td>\n",
       "      <td>Autauga</td>\n",
       "      <td>57.0</td>\n",
       "      <td>2024-03-13 21:34:03</td>\n",
       "    </tr>\n",
       "    <tr>\n",
       "      <th>2</th>\n",
       "      <td>36006</td>\n",
       "      <td>36006</td>\n",
       "      <td>36006</td>\n",
       "      <td>1001.0</td>\n",
       "      <td>1001</td>\n",
       "      <td>AL</td>\n",
       "      <td>Autauga</td>\n",
       "      <td>57.0</td>\n",
       "      <td>2024-03-13 21:34:03</td>\n",
       "    </tr>\n",
       "    <tr>\n",
       "      <th>3</th>\n",
       "      <td>36008</td>\n",
       "      <td>36008</td>\n",
       "      <td>36008</td>\n",
       "      <td>1001.0</td>\n",
       "      <td>1001</td>\n",
       "      <td>AL</td>\n",
       "      <td>Autauga</td>\n",
       "      <td>57.0</td>\n",
       "      <td>2024-03-13 21:34:03</td>\n",
       "    </tr>\n",
       "    <tr>\n",
       "      <th>4</th>\n",
       "      <td>36022</td>\n",
       "      <td>36022</td>\n",
       "      <td>36022</td>\n",
       "      <td>1001.0</td>\n",
       "      <td>1001</td>\n",
       "      <td>AL</td>\n",
       "      <td>Autauga</td>\n",
       "      <td>57.0</td>\n",
       "      <td>2024-03-13 21:34:03</td>\n",
       "    </tr>\n",
       "  </tbody>\n",
       "</table>\n",
       "</div>"
      ],
      "text/plain": [
       "     ZIP ZIP_STRING_LEADING_ZERO ZIP_STRING    FIPS FIPS_STRING   STATE  \\\n",
       "0      0                  STRING     STRING     0.0      STRING  STRING   \n",
       "1  36003                   36003      36003  1001.0        1001      AL   \n",
       "2  36006                   36006      36006  1001.0        1001      AL   \n",
       "3  36008                   36008      36008  1001.0        1001      AL   \n",
       "4  36022                   36022      36022  1001.0        1001      AL   \n",
       "\n",
       "  CNTY_NAME  _BATCH_ID_     _BATCH_LAST_RUN_  \n",
       "0    STRING        57.0  2024-03-13 21:34:03  \n",
       "1   Autauga        57.0  2024-03-13 21:34:03  \n",
       "2   Autauga        57.0  2024-03-13 21:34:03  \n",
       "3   Autauga        57.0  2024-03-13 21:34:03  \n",
       "4   Autauga        57.0  2024-03-13 21:34:03  "
      ]
     },
     "execution_count": 36,
     "metadata": {},
     "output_type": "execute_result"
    }
   ],
   "source": [
    "zip_fips = pd.read_csv('../ZIP to FIPS.csv')\n",
    "zip_fips.head()"
   ]
  },
  {
   "cell_type": "code",
   "execution_count": 38,
   "id": "9a788540",
   "metadata": {},
   "outputs": [
    {
     "name": "stdout",
     "output_type": "stream",
     "text": [
      "<class 'pandas.core.frame.DataFrame'>\n",
      "RangeIndex: 57608 entries, 0 to 57607\n",
      "Data columns (total 9 columns):\n",
      " #   Column                   Non-Null Count  Dtype  \n",
      "---  ------                   --------------  -----  \n",
      " 0   ZIP                      57608 non-null  int64  \n",
      " 1   ZIP_STRING_LEADING_ZERO  57608 non-null  object \n",
      " 2   ZIP_STRING               57608 non-null  object \n",
      " 3   FIPS                     57564 non-null  float64\n",
      " 4   FIPS_STRING              57564 non-null  object \n",
      " 5   STATE                    57579 non-null  object \n",
      " 6   CNTY_NAME                56783 non-null  object \n",
      " 7   _BATCH_ID_               57608 non-null  float64\n",
      " 8   _BATCH_LAST_RUN_         57608 non-null  object \n",
      "dtypes: float64(2), int64(1), object(6)\n",
      "memory usage: 4.0+ MB\n"
     ]
    }
   ],
   "source": [
    "zip_fips.info(show_counts=True)"
   ]
  },
  {
   "cell_type": "code",
   "execution_count": null,
   "id": "e47204c9",
   "metadata": {},
   "outputs": [
    {
     "data": {
      "text/html": [
       "<div>\n",
       "<style scoped>\n",
       "    .dataframe tbody tr th:only-of-type {\n",
       "        vertical-align: middle;\n",
       "    }\n",
       "\n",
       "    .dataframe tbody tr th {\n",
       "        vertical-align: top;\n",
       "    }\n",
       "\n",
       "    .dataframe thead th {\n",
       "        text-align: right;\n",
       "    }\n",
       "</style>\n",
       "<table border=\"1\" class=\"dataframe\">\n",
       "  <thead>\n",
       "    <tr style=\"text-align: right;\">\n",
       "      <th></th>\n",
       "      <th>year</th>\n",
       "      <th>state_abb</th>\n",
       "      <th>fips</th>\n",
       "      <th>pid_est</th>\n",
       "      <th>office_consolidated</th>\n",
       "      <th>fips_int</th>\n",
       "      <th>ZIP</th>\n",
       "      <th>ZIP_STRING_LEADING_ZERO</th>\n",
       "      <th>ZIP_STRING</th>\n",
       "      <th>FIPS_STRING</th>\n",
       "      <th>STATE</th>\n",
       "      <th>CNTY_NAME</th>\n",
       "      <th>_BATCH_ID_</th>\n",
       "      <th>_BATCH_LAST_RUN_</th>\n",
       "    </tr>\n",
       "  </thead>\n",
       "  <tbody>\n",
       "    <tr>\n",
       "      <th>0</th>\n",
       "      <td>2018</td>\n",
       "      <td>IL</td>\n",
       "      <td>17031</td>\n",
       "      <td>D</td>\n",
       "      <td>County Executive</td>\n",
       "      <td>17031</td>\n",
       "      <td>60004.0</td>\n",
       "      <td>60004</td>\n",
       "      <td>60004</td>\n",
       "      <td>17031</td>\n",
       "      <td>IL</td>\n",
       "      <td>Cook</td>\n",
       "      <td>57.0</td>\n",
       "      <td>2024-03-13 21:34:03</td>\n",
       "    </tr>\n",
       "    <tr>\n",
       "      <th>1</th>\n",
       "      <td>2018</td>\n",
       "      <td>IL</td>\n",
       "      <td>17031</td>\n",
       "      <td>D</td>\n",
       "      <td>County Executive</td>\n",
       "      <td>17031</td>\n",
       "      <td>60005.0</td>\n",
       "      <td>60005</td>\n",
       "      <td>60005</td>\n",
       "      <td>17031</td>\n",
       "      <td>IL</td>\n",
       "      <td>Cook</td>\n",
       "      <td>57.0</td>\n",
       "      <td>2024-03-13 21:34:03</td>\n",
       "    </tr>\n",
       "    <tr>\n",
       "      <th>2</th>\n",
       "      <td>2018</td>\n",
       "      <td>IL</td>\n",
       "      <td>17031</td>\n",
       "      <td>D</td>\n",
       "      <td>County Executive</td>\n",
       "      <td>17031</td>\n",
       "      <td>60006.0</td>\n",
       "      <td>60006</td>\n",
       "      <td>60006</td>\n",
       "      <td>17031</td>\n",
       "      <td>IL</td>\n",
       "      <td>Cook</td>\n",
       "      <td>57.0</td>\n",
       "      <td>2024-03-13 21:34:03</td>\n",
       "    </tr>\n",
       "    <tr>\n",
       "      <th>3</th>\n",
       "      <td>2018</td>\n",
       "      <td>IL</td>\n",
       "      <td>17031</td>\n",
       "      <td>D</td>\n",
       "      <td>County Executive</td>\n",
       "      <td>17031</td>\n",
       "      <td>60007.0</td>\n",
       "      <td>60007</td>\n",
       "      <td>60007</td>\n",
       "      <td>17031</td>\n",
       "      <td>IL</td>\n",
       "      <td>Cook</td>\n",
       "      <td>57.0</td>\n",
       "      <td>2024-03-13 21:34:03</td>\n",
       "    </tr>\n",
       "    <tr>\n",
       "      <th>4</th>\n",
       "      <td>2018</td>\n",
       "      <td>IL</td>\n",
       "      <td>17031</td>\n",
       "      <td>D</td>\n",
       "      <td>County Executive</td>\n",
       "      <td>17031</td>\n",
       "      <td>60008.0</td>\n",
       "      <td>60008</td>\n",
       "      <td>60008</td>\n",
       "      <td>17031</td>\n",
       "      <td>IL</td>\n",
       "      <td>Cook</td>\n",
       "      <td>57.0</td>\n",
       "      <td>2024-03-13 21:34:03</td>\n",
       "    </tr>\n",
       "  </tbody>\n",
       "</table>\n",
       "</div>"
      ],
      "text/plain": [
       "   year state_abb   fips pid_est office_consolidated  fips_int      ZIP  \\\n",
       "0  2018        IL  17031       D    County Executive     17031  60004.0   \n",
       "1  2018        IL  17031       D    County Executive     17031  60005.0   \n",
       "2  2018        IL  17031       D    County Executive     17031  60006.0   \n",
       "3  2018        IL  17031       D    County Executive     17031  60007.0   \n",
       "4  2018        IL  17031       D    County Executive     17031  60008.0   \n",
       "\n",
       "  ZIP_STRING_LEADING_ZERO ZIP_STRING FIPS_STRING STATE CNTY_NAME  _BATCH_ID_  \\\n",
       "0                   60004      60004       17031    IL      Cook        57.0   \n",
       "1                   60005      60005       17031    IL      Cook        57.0   \n",
       "2                   60006      60006       17031    IL      Cook        57.0   \n",
       "3                   60007      60007       17031    IL      Cook        57.0   \n",
       "4                   60008      60008       17031    IL      Cook        57.0   \n",
       "\n",
       "      _BATCH_LAST_RUN_  \n",
       "0  2024-03-13 21:34:03  \n",
       "1  2024-03-13 21:34:03  \n",
       "2  2024-03-13 21:34:03  \n",
       "3  2024-03-13 21:34:03  \n",
       "4  2024-03-13 21:34:03  "
      ]
     },
     "execution_count": 39,
     "metadata": {},
     "output_type": "execute_result"
    },
    {
     "ename": "",
     "evalue": "",
     "output_type": "error",
     "traceback": [
      "\u001b[1;31mThe Kernel crashed while executing code in the current cell or a previous cell. \n",
      "\u001b[1;31mPlease review the code in the cell(s) to identify a possible cause of the failure. \n",
      "\u001b[1;31mClick <a href='https://aka.ms/vscodeJupyterKernelCrash'>here</a> for more info. \n",
      "\u001b[1;31mView Jupyter <a href='command:jupyter.viewOutput'>log</a> for further details."
     ]
    }
   ],
   "source": [
    "cans_zip = pd.merge(cans, zip_fips, how='left', left_on='fips_int', right_on='FIPS')\n",
    "cans_zip = cans_zip.drop(columns=['FIPS'])\n",
    "cans_zip.head()"
   ]
  },
  {
   "cell_type": "code",
   "execution_count": null,
   "id": "41d1249a",
   "metadata": {},
   "outputs": [],
   "source": []
  }
 ],
 "metadata": {
  "kernelspec": {
   "display_name": "aienv",
   "language": "python",
   "name": "python3"
  },
  "language_info": {
   "codemirror_mode": {
    "name": "ipython",
    "version": 3
   },
   "file_extension": ".py",
   "mimetype": "text/x-python",
   "name": "python",
   "nbconvert_exporter": "python",
   "pygments_lexer": "ipython3",
   "version": "3.10.16"
  }
 },
 "nbformat": 4,
 "nbformat_minor": 5
}
