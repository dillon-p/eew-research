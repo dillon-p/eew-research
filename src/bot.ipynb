{
 "cells": [
  {
   "cell_type": "code",
   "execution_count": 1,
   "id": "cf613bbc",
   "metadata": {},
   "outputs": [],
   "source": [
    "import pandas as pd\n",
    "import sqlite3\n",
    "import glob\n",
    "\n",
    "from IPython.display import Image, display\n",
    "# import streamlit as st\n",
    "from typing_extensions import TypedDict\n",
    "from typing import Annotated\n",
    "\n",
    "from langgraph.graph import StateGraph, START, END\n",
    "from langgraph.graph.message import add_messages\n",
    "\n",
    "from langchain_ollama import ChatOllama\n",
    "from langchain_core.messages import HumanMessage, AIMessage\n",
    "from langchain.memory import ConversationBufferMemory\n",
    "from langchain.chains import LLMChain\n",
    "from langchain.prompts import PromptTemplate, FewShotPromptTemplate\n",
    "from langchain.chains import create_sql_query_chain\n",
    "from langchain_community.tools.sql_database.tool import QuerySQLDataBaseTool\n",
    "from operator import itemgetter\n",
    "from langchain_core.output_parsers import StrOutputParser\n",
    "from langchain_core.runnables import RunnablePassthrough\n",
    "from langchain_community.utilities import SQLDatabase\n",
    "from langchain_community.agent_toolkits.sql.toolkit import SQLDatabaseToolkit\n",
    "from langgraph.prebuilt import create_react_agent\n",
    "from sqlalchemy import create_engine\n",
    "from pathlib import Path\n"
   ]
  },
  {
   "cell_type": "code",
   "execution_count": 2,
   "id": "991f8ca3",
   "metadata": {},
   "outputs": [],
   "source": [
    "\n",
    "# Load data to SQL with LangChain\n",
    "def data_to_sql(df, name_of_database: str, data_path: str, if_exists_replace: bool = False,):\n",
    "    database_path = f'{data_path}/{name_of_database}.db'\n",
    "    engine = create_engine(f'sqlite:///{database_path}')\n",
    "    if not Path(database_path).exists() or if_exists_replace is True:\n",
    "        df.to_sql(name_of_database, engine, if_exists='replace')\n",
    "    db = SQLDatabase(engine=engine)\n",
    "\n",
    "    return db\n",
    "\n",
    "data_path = \"../data/generated/\"\n",
    "conn = sqlite3.connect('eew.db')\n",
    "\n",
    "csvs = glob.glob(f\"{data_path}/*.csv\")\n",
    "\n",
    "for csv in csvs:\n",
    "    df = pd.read_csv(csv)\n",
    "    if \"Unnamed: 0\" in df.columns:\n",
    "        df.drop(columns=[\"Unnamed: 0\"], inplace=True)\n",
    "    table_name = csv.split(\"/\")[-1].replace(\".csv\", \"\")\n",
    "    df.to_sql(table_name, conn, if_exists='replace', index=False)\n",
    "conn.close()\n",
    "\n",
    "# ---- Initialize Chat Model ---- #\n",
    "llm = ChatOllama(\n",
    "    model=\"llama3.1:8b\",\n",
    "    temperature=0,\n",
    "    seed=123,\n",
    "    streaming=True\n",
    ")\n",
    "\n",
    "\n",
    "db = SQLDatabase.from_uri(\"sqlite:///eew.db\")\n",
    "toolkit = SQLDatabaseToolkit(db=db, llm=llm)\n",
    "tools = toolkit.get_tools()\n"
   ]
  },
  {
   "cell_type": "code",
   "execution_count": 26,
   "id": "8c10f87c",
   "metadata": {},
   "outputs": [],
   "source": [
    "# test_1 = {'question': \"What are the top 5 counties by the number of RCRA violations emissions?\",\n",
    "#         'sql': \"SELECT county, state, sum(rcra_violations_count) as total_violations FROM rcra_violations_emissions GROUP BY county, state ORDER BY total_violations DESC LIMIT 5;\",\n",
    "#         # 'answer_key': db.run('SELECT county, state, sum(rcra_violations_count) as total_violations FROM rcra_violations_emissions GROUP BY county, state ORDER BY total_violations DESC LIMIT 5;')\n",
    "# }\n",
    "sql_prompt_text = '''\n",
    "You are a SQLite expert. Given an input question, follow these steps to create a syntactically correct {dialect} query.\n",
    "\n",
    "1. **Understand the question:**\n",
    "    - To start you should ALWAYS look at the tables in the database, DO NOT assume you know the tables. Read the tables first and their columns to see what you can query. DO NOT skip this step.\n",
    "    - Identify key statistics or data points requested (e.g., average/mean, maximum or standard deviation).\n",
    "    - Determine if the question requires ranking or grouping the data.\n",
    "2. **Select the Appropriate Tables:**\n",
    "    - Identify the tables that contain the relevant data:\n",
    "        - The table `county_political_reporting` contains information about the party in control of counties.\n",
    "        - The table `rcra_violations` contains information about federally regulated facilities who have RCRA violations.\n",
    "        - The table `toxic_emissions` contains information about toxic pollutant emissions from the facilities.\n",
    "3. **Select the Appropriate Columns:**\n",
    "   - Use only the columns relevant to the question.\n",
    "4. **Understand any Filtering:**\n",
    "   - Pay close attention to any filtering criteria in the question. For example, if the question specifies a particular year, state, county, facility name or pollutant ensure that the SQL query includes a `WHERE` clause to filter the data accordingly.\n",
    "4. **Construct the SQL Query:**\n",
    "   - Use aggregate functions like `AVG`, `MAX`, or `MIN` as needed using `GROUP BY`.\n",
    "   - If a column has `count` in the name, then it should be summed.\n",
    "   - If the question involves ranking (e.g., \"top 5 violators\"), use `ORDER BY` with the appropriate column.\n",
    "5. **Limit the Results:**\n",
    "   - Use the `LIMIT` clause to restrict the number of results to {top_k} if the total number of results exceeds 50, unless specified otherwise.\n",
    "\n",
    "Pay attention to use only the column names you can see in the tables below. Be careful to not query for columns that do not exist. Avoid querying `index` as a keyword because is not a valid column selection. Also, pay attention to which column is in which table.\n",
    "Return ONLY the SQLQuery with no other context given. Do not include the question in the output. Do not include the title 'SQLQuery' in the output.\n",
    "\n",
    "    Use the following format:\n",
    "    Question: Question here\n",
    "    SQLQuery: SQL Query to run\n",
    "    SQLResult: Result of the SQLQuery\n",
    "    Answer: Final answer here\n",
    "    \n",
    "    Only use the following tables:\n",
    "    {table_info}\n",
    "    \n",
    "'''\n",
    "\n",
    "examples = [\n",
    "        {\n",
    "                'input': \"Which party was in control in Maricopa county in 2020?\",\n",
    "                'query': \"SELECT party_in_control FROM county_political_reporting WHERE county = 'MARICOPA' AND year = 2020;\",\n",
    "        },\n",
    "        {\n",
    "                'input': \"What are the total number of RCRA violations by state?\",\n",
    "                'query': \"SELECT FAC_STATE, count(*) as avg_violations FROM rcra_violations GROUP BY state;\",\n",
    "        },\n",
    "        {\n",
    "                'input': \"In 2018, how much much Ammonia was released in Illinois?\",\n",
    "                'query': \"SELECT sum(ANNUAL_EMMISIONS) FROM toxic_emissions WHERE POLLUTANT_NAME = 'Ammonia' AND FAC_STATE = 'IL' AND REPORTING_YEAR = 2018;\",\n",
    "        },\n",
    "        {\n",
    "                'input': \"Give me the names of the top 5 facilities in Texas by the number of RCRA violations\",\n",
    "                'query': \"SELECT FAC_NAME, COUNT(*) as total_violations FROM rcra_violations WHERE FAC_STATE = 'TX' GROUP BY FAC_NAME ORDER BY total_violations DESC LIMIT 5;\",\n",
    "        }\n",
    "]\n",
    "\n",
    "example_prompt = PromptTemplate.from_template(\"User input: {input}\\nSQLQuery: {query}\")\n",
    "# Below are a number of examples of questions and their corresponding SQL queries. \n",
    "# Use these examples to help you understand how to construct your own SQL queries. But do not copy them directly. \n",
    "# Instead, use them as a guide to create your own SQL queries based on the question you are given.\n",
    "sql_agent_prompt = FewShotPromptTemplate(\n",
    "        examples=examples,\n",
    "        example_prompt=example_prompt,\n",
    "        prefix=sql_prompt_text,\n",
    "        suffix=\"Question: {input}\\nSQLQuery:\",\n",
    "        input_variables=[\"input\", \"table_info\", \"dialect\", \"top_k\"],\n",
    ")"
   ]
  },
  {
   "cell_type": "code",
   "execution_count": 27,
   "id": "35c6130d",
   "metadata": {},
   "outputs": [],
   "source": [
    "sql_prompt = PromptTemplate.from_template((sql_prompt_text + \"\\nQuestion: {input}\"))"
   ]
  },
  {
   "cell_type": "code",
   "execution_count": 28,
   "id": "47d65bd0",
   "metadata": {},
   "outputs": [
    {
     "name": "stdout",
     "output_type": "stream",
     "text": [
      "================================\u001b[1m Human Message \u001b[0m=================================\n",
      "\n",
      "How much of the pollutant Ammonia was emitted in 2020?\n",
      "None\n",
      "==================================\u001b[1m Ai Message \u001b[0m==================================\n",
      "Tool Calls:\n",
      "  sql_db_query (cf1c6abc-a301-4ac9-9ce4-5517de239b67)\n",
      " Call ID: cf1c6abc-a301-4ac9-9ce4-5517de239b67\n",
      "  Args:\n",
      "    query: SELECT SUM(Ammonia) FROM emissions WHERE year = 2020\n",
      "None\n",
      "=================================\u001b[1m Tool Message \u001b[0m=================================\n",
      "Name: sql_db_query\n",
      "\n",
      "Error: (sqlite3.OperationalError) no such table: emissions\n",
      "[SQL: SELECT SUM(Ammonia) FROM emissions WHERE year = 2020]\n",
      "(Background on this error at: https://sqlalche.me/e/20/e3q8)\n",
      "None\n",
      "==================================\u001b[1m Ai Message \u001b[0m==================================\n",
      "\n",
      "SELECT SUM(t1.Ammonia) FROM toxic_emissions AS t1 INNER JOIN emissions AS t2 ON t1.FAC_NAME = t2.FAC_NAME WHERE t1.REPORTING_YEAR = 2014 AND t2.POLLUTANT_NAME = 'Chromium'\n",
      "None\n"
     ]
    }
   ],
   "source": [
    "# context = db.get_context()\n",
    "dialect = db.dialect\n",
    "top_k = 10\n",
    "table_info = db.get_table_info()\n",
    "\n",
    "# ## AGENT WITH TOOL KIT TO LOOP THROUGH\n",
    "agent_executor = create_react_agent(llm, tools, prompt=sql_prompt.format(\n",
    "    table_info=table_info,\n",
    "    dialect=dialect,\n",
    "    top_k=top_k,\n",
    "    input={\"question\"}\n",
    "))\n",
    "question = \"How much of the pollutant Ammonia was emitted in 2020?\"\n",
    "\n",
    "for step in agent_executor.stream(\n",
    "    {'messages': [{'role':'user', 'content': question}]}, stream_mode=\"values\"\n",
    "):\n",
    "    print(step['messages'][-1].pretty_print())"
   ]
  },
  {
   "cell_type": "code",
   "execution_count": 5,
   "id": "23b03c5c",
   "metadata": {},
   "outputs": [],
   "source": [
    "# ##IF STREAMLIT SUPPORTED GPU MAYBE CONSIDER ADDING IN VECTOR DB FOR PROPER NOUNS\n",
    "\n",
    "# import ast\n",
    "# import re\n",
    "\n",
    "\n",
    "# def query_as_list(db, query):\n",
    "#     res = db.run(query)\n",
    "#     res = [el for sub in ast.literal_eval(res) for el in sub if el]\n",
    "#     res = [re.sub(r\"\\b\\d+\\b\", \"\", string).strip() for string in res]\n",
    "#     return res\n",
    "\n",
    "# proper_nouns = query_as_list(db, \"SELECT DISTINCT POLLUTANT_NAME FROM toxic_releases;\")\n",
    "# proper_nouns += query_as_list(db, \"SELECT DISTINCT FAC_NAME FROM rcra_violations;\")\n",
    "# proper_nouns += query_as_list(db, \"SELECT DISTINCT county FROM rcra_violations_emissions;\")\n",
    "# proper_nouns += query_as_list(db, \"SELECT DISTINCT state FROM rcra_violations_emissions;\")\n",
    "# print(len(proper_nouns))\n",
    "\n",
    "# # import faiss\n",
    "# from langchain_core.vectorstores import InMemoryVectorStore\n",
    "# from langchain_ollama import OllamaEmbeddings\n",
    "# from langchain.tools.retriever import create_retriever_tool\n",
    "\n",
    "# vector_db = InMemoryVectorStore(OllamaEmbeddings(model=\"llama3.1:8b\"))\n",
    "\n",
    "# _ = vector_db.add_texts(proper_nouns)\n",
    "# retriever = vector_db.as_retriever(search_kwargs={\"k\": 2})\n",
    "# description = \"Use to look up values to filter on. Input is an approximate value of proper noun, output is valid noun. Use the noun most similar to the search.\"\n",
    "# proper_noun_retriever_tool = create_retriever_tool(retriever, name=\"search_proper_noun\", description=description)"
   ]
  },
  {
   "cell_type": "code",
   "execution_count": null,
   "id": "405d75d3",
   "metadata": {},
   "outputs": [],
   "source": [
    "# print(db.get_table_info())\n",
    "# print(context)\n",
    "# sql_agent_prompt = PromptTemplate.from_template(sql_prompt_text)\n",
    "# query_chain = create_sql_query_chain(llm, db, prompt=sql_agent_prompt,)\n",
    "# retriever_chain = (\n",
    "#     itemgetter(\"question\")\n",
    "#     | retriever\n",
    "#     | (lambda docs: \"\\n\".join(doc.page_content for doc in docs))\n",
    "# )\n",
    "# chain = RunnablePassthrough.assign(proper_nouns=retreiver_chain)\n",
    "# chain.get_prompts()[0].pretty_print()"
   ]
  },
  {
   "cell_type": "code",
   "execution_count": null,
   "id": "fdc35243",
   "metadata": {},
   "outputs": [
    {
     "data": {
      "text/plain": [
       "FewShotPromptTemplate(input_variables=['dialect', 'table_info', 'top_k'], input_types={}, partial_variables={}, examples=[{'input': 'Which party was in control in Maricopa county in 2020?', 'query': \"SELECT party_in_control FROM county_political_reporting WHERE county = 'MARICOPA' and year = 2020;\"}, {'input': 'What are the average number of RCRA violations by state?', 'query': 'SELECT state, avg(rcra_violations_count) as avg_violations FROM rcra_violations_emissions GROUP BY state;'}, {'input': 'In 2018, how much much Ammonia was released in Illinois?', 'query': \"SELECT sum(ANNUAL_EMMISIONS) FROM toxic_releases WHERE POLLUTANT_NAME = 'Ammonia' AND FAC_STATE = 'IL' REPORTING_YEAR = 2018;\"}, {'input': 'Give me the names of the top 5 facilities in Texas by the number of RCRA violations', 'query': \"SELECT FAC_NAME, COUNT(*) as total_violations FROM rcra_violations WHERE FAC_STATE = 'TX' GROUP BY FAC_NAME ORDER BY total_violations DESC LIMIT 5;\"}], example_prompt=PromptTemplate(input_variables=['input', 'query'], input_types={}, partial_variables={}, template='User input: {input}\\nSQLQuery: {query}'), suffix='', prefix='\\nYou are a SQLite expert. Given an input question, follow these steps to create a syntactically correct {dialect} query then look at the results of the query and return the answer to the input question.\\n\\n1. **Understand the question:**\\n    - To start you should ALWAYS look at the tables in the database and their columns to see what you can query. DO NOT skip this step and DO NOT assume you know the tables and columns, read them first.\\n    - Identify key statistics or data points requested (e.g., average/mean, maximum or standard deviation). Be careful not to confuse the user\\'s request of key statistics for a simple fetching of data, you may need to aggregate data together.\\n    - Determine if the question requires ranking or grouping the data.\\n2. **Select the Appropriate Tables:**\\n    - Identify the tables that contain the relevant data. For example, the table `county_political_reporting` contains pre-aggregated yearly data on counties in the US who reported violations. While `rcra_violations` contains specific detail about the violations.\\n3. **Select the Appropriate Columns:**\\n   - Use only the columns relevant to the question. For example, use `mean` or `average` for average calculations, or `max` for identifying the highest values.\\n4. **Construct the SQL Query:**\\n   - Use aggregate functions like `AVG`, `MAX`, or `MIN` as needed.\\n   - If a column has `count` in the name, then it should be summed.\\n   - If the question involves ranking (e.g., \"top 5 violators\"), use `ORDER BY` with the appropriate column.\\n   - For questions involving categories (e.g., state), use `GROUP BY`.\\n5. **Limit the Results:**\\n   - Use the `LIMIT` clause to restrict the number of results to {top_k} if the total number of results exceeds 50, unless specified otherwise.\\n\\nPay attention to use only the column names you can see in the tables below. Be careful to not query for columns that do not exist. Avoid querying `index` as a keyword because is not a valid column selection. Also, pay attention to which column is in which table.\\nReturn ONLY the SQLQuery with no other context given. Do not include the question in the output. Do not include the title \\'SQLQuery\\' in the output.\\n\\n    Use the following format:\\n    Question: Question here\\n    SQLQuery: SQL Query to run\\n    SQLResult: Result of the SQLQuery\\n    Answer: Final answer here\\n    \\n    Only use the following tables:\\n    {table_info}\\n    \\nBelow are a number of examples of questions and their corresponding SQL queries. \\nUse these examples to help you understand how to construct your own SQL queries. But do not copy them directly. \\nInstead, use them as a guide to create your own SQL queries based on the question you are given.\\n')"
      ]
     },
     "execution_count": 7,
     "metadata": {},
     "output_type": "execute_result"
    }
   ],
   "source": [
    "# sql_agent_prompt"
   ]
  },
  {
   "cell_type": "code",
   "execution_count": 29,
   "id": "5b7e781e",
   "metadata": {},
   "outputs": [],
   "source": [
    "class State(TypedDict):\n",
    "    question: str\n",
    "    query: str\n",
    "    result: str\n",
    "    answer: str"
   ]
  },
  {
   "cell_type": "code",
   "execution_count": 30,
   "id": "1768dcf6",
   "metadata": {},
   "outputs": [
    {
     "name": "stdout",
     "output_type": "stream",
     "text": [
      "{'query': \"SELECT SUM(ANNUAL_EMISSION) FROM toxic_emissions WHERE POLLUTANT_NAME = 'Ammonia' AND REPORTING_YEAR = 2020\"}\n"
     ]
    }
   ],
   "source": [
    "class QueryOutput(TypedDict):\n",
    "    \"\"\"Generate SQL query.\"\"\"\n",
    "    query: Annotated[str, ..., \"Syntactically valid SQL query.\"]\n",
    "\n",
    "def write_query(state: State):\n",
    "    \"\"\"Generate SQL query to fetch information.\"\"\"\n",
    "    prompt = sql_prompt.invoke(\n",
    "        {\n",
    "            \"dialect\": db.dialect,\n",
    "            \"top_k\": 10,\n",
    "            \"table_info\": db.get_table_info(),\n",
    "            \"input\": state[\"question\"],\n",
    "        }\n",
    "    )\n",
    "    structured_llm = llm.with_structured_output(QueryOutput)\n",
    "    result = structured_llm.invoke(prompt)\n",
    "    return {\"query\": result[\"query\"]}\n",
    "\n",
    "print(write_query({'question': \"How much of the pollutant Ammonia was emitted in 2020?\"}))\n",
    "\n",
    "def execute_query(state: State):\n",
    "    \"\"\"Execute SQL query and return results.\"\"\"\n",
    "    execute_query_tool = QuerySQLDataBaseTool(db=db)\n",
    "    return {\"result\": execute_query_tool.invoke(state[\"query\"])}\n",
    "\n",
    "# print(execute_query({'query': \"SELECT county, state, sum(rcra_violations_count) as total_violations FROM rcra_violations_emissions GROUP BY county, state ORDER BY total_violations DESC LIMIT 5;\"}))\n",
    "\n",
    "def generate_answer(state: State):\n",
    "    \"\"\"Answer question using retrieved information from SQL query as context.\"\"\"\n",
    "    prompt = (\n",
    "        \"Given the following user question, corresponding SQL query and SQL result, answer the user question.\\n\\n\"\n",
    "        f\"Question:{state['question']}\\n\"\n",
    "        f\"SQL Query: {state['query']}\\n\"\n",
    "        f\"SQL Result: {state['result']}\\n\\n\"\n",
    "    )\n",
    "    response = llm.invoke(prompt)\n",
    "    return {\"answer\": response.content}"
   ]
  },
  {
   "cell_type": "code",
   "execution_count": 31,
   "id": "edcaa78a",
   "metadata": {},
   "outputs": [],
   "source": [
    "graph_builder = StateGraph(State).add_sequence(\n",
    "    [\n",
    "        write_query,\n",
    "        execute_query,\n",
    "        generate_answer,\n",
    "    ]\n",
    ")\n",
    "graph_builder.add_edge(START, \"write_query\")\n",
    "graph = graph_builder.compile()"
   ]
  },
  {
   "cell_type": "code",
   "execution_count": 32,
   "id": "0617bfde",
   "metadata": {},
   "outputs": [
    {
     "data": {
      "image/png": "[encoded data removed]",
      "text/plain": [
       "<IPython.core.display.Image object>"
      ]
     },
     "metadata": {},
     "output_type": "display_data"
    }
   ],
   "source": [
    "display(Image(graph.get_graph().draw_mermaid_png()))"
   ]
  },
  {
   "cell_type": "code",
   "execution_count": 33,
   "id": "9cfd350a",
   "metadata": {},
   "outputs": [
    {
     "name": "stdout",
     "output_type": "stream",
     "text": [
      "{'write_query': {'query': \"SELECT COUNT(*) FROM toxic_emissions WHERE FAC_STATE = 'TX' AND REPORTING_YEAR = 2020\"}}\n",
      "{'execute_query': {'result': '[(6375,)]'}}\n",
      "{'generate_answer': {'answer': 'Based on the SQL query and result, it appears that there were 6,375 violations of toxic emissions in Texas in 2020.'}}\n"
     ]
    }
   ],
   "source": [
    "for step in graph.stream(\n",
    "    {\"question\": \"How many violations occurred in Texas in 2020?\"}, stream_mode='updates'\n",
    "):\n",
    "    print(step)"
   ]
  },
  {
   "cell_type": "code",
   "execution_count": null,
   "id": "0a4417d8",
   "metadata": {},
   "outputs": [],
   "source": []
  },
  {
   "cell_type": "markdown",
   "id": "23b73a7e",
   "metadata": {},
   "source": [
    "____"
   ]
  },
  {
   "cell_type": "code",
   "execution_count": null,
   "id": "ceb47fa0",
   "metadata": {},
   "outputs": [],
   "source": [
    "\n",
    "table_info = db.get_table_info()\n",
    "top_k = 5\n",
    "sql_prompt = PromptTemplate.from_template(\n",
    "    # input_variables = [\"input\", \"table_info\", \"top_k\", \"dialect\"],\n",
    "    template=sql_prompt_text\n",
    ")\n",
    "\n",
    "sql_agent_prompt = sql_prompt.format(dialect=\"SQLite\", table_info=table_info, top_k=top_k, input=\"{input}\")\n",
    "\n",
    "sql_agent = create_sql_query_chain(llm, db, prompt=sql_prompt)\n",
    "# sql_agent"
   ]
  },
  {
   "cell_type": "code",
   "execution_count": 19,
   "id": "a1692314",
   "metadata": {},
   "outputs": [
    {
     "name": "stdout",
     "output_type": "stream",
     "text": [
      "SELECT county, COUNT(*) AS rcra_violations_count FROM rcra_violations_emissions GROUP BY county ORDER BY rcra_violations_count DESC LIMIT 5;\n",
      "[('JEFFERSON', 139), ('MONTGOMERY', 104), ('WASHINGTON', 87), ('DOUGLAS', 85), ('LAKE', 73)]\n"
     ]
    }
   ],
   "source": [
    "user_input = \"What are the top 5 counties by the number of RCRA violations emissions?\"\n",
    "sql_code = sql_agent.invoke({'question': user_input,})\n",
    "print(sql_code)\n",
    "print(db.run(sql_code))"
   ]
  },
  {
   "cell_type": "code",
   "execution_count": 20,
   "id": "4d8561dd",
   "metadata": {},
   "outputs": [
    {
     "name": "stdout",
     "output_type": "stream",
     "text": [
      "[('JEFFERSON', 139), ('MONTGOMERY', 104), ('WASHINGTON', 87), ('DOUGLAS', 85), ('LAKE', 73)]\n"
     ]
    }
   ],
   "source": [
    "def sql_query_chain(user_input):\n",
    "    # system_message = sql_prompt.format(dialect=\"SQLite\", top_k=5, table_info=db.get_table_info(), input=user_input)\n",
    "    write_sql_query = create_sql_query_chain(llm, db, prompt=sql_prompt)\n",
    "    execute_sql_query = QuerySQLDataBaseTool(db=db)\n",
    "    sql_query_chain = write_sql_query | execute_sql_query\n",
    "    return sql_query_chain.invoke({\"question\": user_input})\n",
    "    # agent_executor = create_react_agent(llm, tools=toolkit.get_tools(), prompt=sql_prompt, debug=True)\n",
    "    # events = agent_executor.stream({'messages': [('user', user_input)]}, stream_mode=\"values\",)\n",
    "    # for event in events:\n",
    "    #     return event['messages'][-1].pretty_print()\n",
    "# user_input = input(\"Enter your question: \")\n",
    "\n",
    "print(sql_query_chain(user_input))"
   ]
  },
  {
   "cell_type": "code",
   "execution_count": 21,
   "id": "ccb06e97",
   "metadata": {},
   "outputs": [],
   "source": [
    "system_message = sql_prompt.format(dialect=\"SQLite\", top_k=5, table_info=db.get_table_info(), input=user_input)"
   ]
  },
  {
   "cell_type": "code",
   "execution_count": 23,
   "id": "1e77cf93",
   "metadata": {},
   "outputs": [
    {
     "name": "stdout",
     "output_type": "stream",
     "text": [
      "\u001b[36;1m\u001b[1;3m[-1:checkpoint]\u001b[0m \u001b[1mState at the end of step -1:\n",
      "\u001b[0m{'messages': []}\n",
      "\u001b[36;1m\u001b[1;3m[0:tasks]\u001b[0m \u001b[1mStarting 1 task for step 0:\n",
      "\u001b[0m- \u001b[32;1m\u001b[1;3m__start__\u001b[0m -> {'messages': [{'content': 'Which 5 counties had the highest number of RCRA '\n",
      "                          'violations and what were the totals?',\n",
      "               'role': 'user'}]}\n",
      "\u001b[36;1m\u001b[1;3m[0:writes]\u001b[0m \u001b[1mFinished step 0 with writes to 1 channel:\n",
      "\u001b[0m- \u001b[33;1m\u001b[1;3mmessages\u001b[0m -> [{'content': 'Which 5 counties had the highest number of RCRA violations and '\n",
      "             'what were the totals?',\n",
      "  'role': 'user'}]\n",
      "\u001b[36;1m\u001b[1;3m[0:checkpoint]\u001b[0m \u001b[1mState at the end of step 0:\n",
      "\u001b[0m{'messages': [HumanMessage(content='Which 5 counties had the highest number of RCRA violations and what were the totals?', additional_kwargs={}, response_metadata={}, id='c34d3f79-5f3d-4f5e-9b30-404d10ab1239')]}\n",
      "\u001b[36;1m\u001b[1;3m[1:tasks]\u001b[0m \u001b[1mStarting 1 task for step 1:\n",
      "\u001b[0m- \u001b[32;1m\u001b[1;3magent\u001b[0m -> {'is_last_step': False,\n",
      " 'messages': [HumanMessage(content='Which 5 counties had the highest number of RCRA violations and what were the totals?', additional_kwargs={}, response_metadata={}, id='c34d3f79-5f3d-4f5e-9b30-404d10ab1239')],\n",
      " 'remaining_steps': 24}\n",
      "================================\u001b[1m Human Message \u001b[0m=================================\n",
      "\n",
      "Which 5 counties had the highest number of RCRA violations and what were the totals?\n",
      "\u001b[36;1m\u001b[1;3m[1:writes]\u001b[0m \u001b[1mFinished step 1 with writes to 1 channel:\n",
      "\u001b[0m- \u001b[33;1m\u001b[1;3mmessages\u001b[0m -> [AIMessage(content='', additional_kwargs={}, response_metadata={'model': 'llama3.1:8b', 'created_at': '2025-04-25T03:43:14.0274Z', 'done': True, 'done_reason': 'stop', 'total_duration': 4826740041, 'load_duration': 1446504750, 'prompt_eval_count': 508, 'prompt_eval_duration': 2365198750, 'eval_count': 40, 'eval_duration': 1010548958, 'model_name': 'llama3.1:8b'}, id='run-8976fbdd-a678-45ae-b8ad-1f85409c5c8a-0', tool_calls=[{'name': 'sql_db_query', 'args': {'query': 'SELECT county, COUNT(*) as total FROM rcra_violations GROUP BY county ORDER BY total DESC LIMIT 5'}, 'id': 'a636316c-b5f3-40f8-975f-f4eeeaa63344', 'type': 'tool_call'}], usage_metadata={'input_tokens': 508, 'output_tokens': 40, 'total_tokens': 548})]\n",
      "\u001b[36;1m\u001b[1;3m[1:checkpoint]\u001b[0m \u001b[1mState at the end of step 1:\n",
      "\u001b[0m{'messages': [HumanMessage(content='Which 5 counties had the highest number of RCRA violations and what were the totals?', additional_kwargs={}, response_metadata={}, id='c34d3f79-5f3d-4f5e-9b30-404d10ab1239'),\n",
      "              AIMessage(content='', additional_kwargs={}, response_metadata={'model': 'llama3.1:8b', 'created_at': '2025-04-25T03:43:14.0274Z', 'done': True, 'done_reason': 'stop', 'total_duration': 4826740041, 'load_duration': 1446504750, 'prompt_eval_count': 508, 'prompt_eval_duration': 2365198750, 'eval_count': 40, 'eval_duration': 1010548958, 'model_name': 'llama3.1:8b'}, id='run-8976fbdd-a678-45ae-b8ad-1f85409c5c8a-0', tool_calls=[{'name': 'sql_db_query', 'args': {'query': 'SELECT county, COUNT(*) as total FROM rcra_violations GROUP BY county ORDER BY total DESC LIMIT 5'}, 'id': 'a636316c-b5f3-40f8-975f-f4eeeaa63344', 'type': 'tool_call'}], usage_metadata={'input_tokens': 508, 'output_tokens': 40, 'total_tokens': 548})]}\n",
      "\u001b[36;1m\u001b[1;3m[2:tasks]\u001b[0m \u001b[1mStarting 1 task for step 2:\n",
      "\u001b[0m- \u001b[32;1m\u001b[1;3mtools\u001b[0m -> {'is_last_step': False,\n",
      " 'messages': [HumanMessage(content='Which 5 counties had the highest number of RCRA violations and what were the totals?', additional_kwargs={}, response_metadata={}, id='c34d3f79-5f3d-4f5e-9b30-404d10ab1239'),\n",
      "              AIMessage(content='', additional_kwargs={}, response_metadata={'model': 'llama3.1:8b', 'created_at': '2025-04-25T03:43:14.0274Z', 'done': True, 'done_reason': 'stop', 'total_duration': 4826740041, 'load_duration': 1446504750, 'prompt_eval_count': 508, 'prompt_eval_duration': 2365198750, 'eval_count': 40, 'eval_duration': 1010548958, 'model_name': 'llama3.1:8b'}, id='run-8976fbdd-a678-45ae-b8ad-1f85409c5c8a-0', tool_calls=[{'name': 'sql_db_query', 'args': {'query': 'SELECT county, COUNT(*) as total FROM rcra_violations GROUP BY county ORDER BY total DESC LIMIT 5'}, 'id': 'a636316c-b5f3-40f8-975f-f4eeeaa63344', 'type': 'tool_call'}], usage_metadata={'input_tokens': 508, 'output_tokens': 40, 'total_tokens': 548})],\n",
      " 'remaining_steps': 23}\n",
      "==================================\u001b[1m Ai Message \u001b[0m==================================\n",
      "Tool Calls:\n",
      "  sql_db_query (a636316c-b5f3-40f8-975f-f4eeeaa63344)\n",
      " Call ID: a636316c-b5f3-40f8-975f-f4eeeaa63344\n",
      "  Args:\n",
      "    query: SELECT county, COUNT(*) as total FROM rcra_violations GROUP BY county ORDER BY total DESC LIMIT 5\n",
      "\u001b[36;1m\u001b[1;3m[2:writes]\u001b[0m \u001b[1mFinished step 2 with writes to 1 channel:\n",
      "\u001b[0m- \u001b[33;1m\u001b[1;3mmessages\u001b[0m -> [ToolMessage(content='Error: (sqlite3.OperationalError) no such column: county\\n[SQL: SELECT county, COUNT(*) as total FROM rcra_violations GROUP BY county ORDER BY total DESC LIMIT 5]\\n(Background on this error at: https://sqlalche.me/e/20/e3q8)', name='sql_db_query', tool_call_id='a636316c-b5f3-40f8-975f-f4eeeaa63344')]\n",
      "\u001b[36;1m\u001b[1;3m[2:checkpoint]\u001b[0m \u001b[1mState at the end of step 2:\n",
      "\u001b[0m{'messages': [HumanMessage(content='Which 5 counties had the highest number of RCRA violations and what were the totals?', additional_kwargs={}, response_metadata={}, id='c34d3f79-5f3d-4f5e-9b30-404d10ab1239'),\n",
      "              AIMessage(content='', additional_kwargs={}, response_metadata={'model': 'llama3.1:8b', 'created_at': '2025-04-25T03:43:14.0274Z', 'done': True, 'done_reason': 'stop', 'total_duration': 4826740041, 'load_duration': 1446504750, 'prompt_eval_count': 508, 'prompt_eval_duration': 2365198750, 'eval_count': 40, 'eval_duration': 1010548958, 'model_name': 'llama3.1:8b'}, id='run-8976fbdd-a678-45ae-b8ad-1f85409c5c8a-0', tool_calls=[{'name': 'sql_db_query', 'args': {'query': 'SELECT county, COUNT(*) as total FROM rcra_violations GROUP BY county ORDER BY total DESC LIMIT 5'}, 'id': 'a636316c-b5f3-40f8-975f-f4eeeaa63344', 'type': 'tool_call'}], usage_metadata={'input_tokens': 508, 'output_tokens': 40, 'total_tokens': 548}),\n",
      "              ToolMessage(content='Error: (sqlite3.OperationalError) no such column: county\\n[SQL: SELECT county, COUNT(*) as total FROM rcra_violations GROUP BY county ORDER BY total DESC LIMIT 5]\\n(Background on this error at: https://sqlalche.me/e/20/e3q8)', name='sql_db_query', id='05ca4c76-c6b0-4c7a-b2d9-2f7e85d6a9ac', tool_call_id='a636316c-b5f3-40f8-975f-f4eeeaa63344')]}\n",
      "\u001b[36;1m\u001b[1;3m[3:tasks]\u001b[0m \u001b[1mStarting 1 task for step 3:\n",
      "\u001b[0m- \u001b[32;1m\u001b[1;3magent\u001b[0m -> {'is_last_step': False,\n",
      " 'messages': [HumanMessage(content='Which 5 counties had the highest number of RCRA violations and what were the totals?', additional_kwargs={}, response_metadata={}, id='c34d3f79-5f3d-4f5e-9b30-404d10ab1239'),\n",
      "              AIMessage(content='', additional_kwargs={}, response_metadata={'model': 'llama3.1:8b', 'created_at': '2025-04-25T03:43:14.0274Z', 'done': True, 'done_reason': 'stop', 'total_duration': 4826740041, 'load_duration': 1446504750, 'prompt_eval_count': 508, 'prompt_eval_duration': 2365198750, 'eval_count': 40, 'eval_duration': 1010548958, 'model_name': 'llama3.1:8b'}, id='run-8976fbdd-a678-45ae-b8ad-1f85409c5c8a-0', tool_calls=[{'name': 'sql_db_query', 'args': {'query': 'SELECT county, COUNT(*) as total FROM rcra_violations GROUP BY county ORDER BY total DESC LIMIT 5'}, 'id': 'a636316c-b5f3-40f8-975f-f4eeeaa63344', 'type': 'tool_call'}], usage_metadata={'input_tokens': 508, 'output_tokens': 40, 'total_tokens': 548}),\n",
      "              ToolMessage(content='Error: (sqlite3.OperationalError) no such column: county\\n[SQL: SELECT county, COUNT(*) as total FROM rcra_violations GROUP BY county ORDER BY total DESC LIMIT 5]\\n(Background on this error at: https://sqlalche.me/e/20/e3q8)', name='sql_db_query', id='05ca4c76-c6b0-4c7a-b2d9-2f7e85d6a9ac', tool_call_id='a636316c-b5f3-40f8-975f-f4eeeaa63344')],\n",
      " 'remaining_steps': 22}\n",
      "=================================\u001b[1m Tool Message \u001b[0m=================================\n",
      "Name: sql_db_query\n",
      "\n",
      "Error: (sqlite3.OperationalError) no such column: county\n",
      "[SQL: SELECT county, COUNT(*) as total FROM rcra_violations GROUP BY county ORDER BY total DESC LIMIT 5]\n",
      "(Background on this error at: https://sqlalche.me/e/20/e3q8)\n",
      "\u001b[36;1m\u001b[1;3m[3:writes]\u001b[0m \u001b[1mFinished step 3 with writes to 1 channel:\n",
      "\u001b[0m- \u001b[33;1m\u001b[1;3mmessages\u001b[0m -> [AIMessage(content='To answer the question, we need to modify the SQL query to select from the `rcra_violations_emissions` table instead of `rcra_violations`. The correct SQL query would be:\\n\\n```sql\\nSELECT county, COUNT(*) as total \\nFROM rcra_violations_emissions \\nGROUP BY county \\nORDER BY total DESC \\nLIMIT 5;\\n```\\n\\nThis will return the top 5 counties by the number of RCRA violations emissions.', additional_kwargs={}, response_metadata={'model': 'llama3.1:8b', 'created_at': '2025-04-25T03:43:22.04712Z', 'done': True, 'done_reason': 'stop', 'total_duration': 8005329625, 'load_duration': 9895042, 'prompt_eval_count': 2048, 'prompt_eval_duration': 5076520042, 'eval_count': 95, 'eval_duration': 2916623916, 'model_name': 'llama3.1:8b'}, id='run-f2c0564b-70ef-401d-9056-23cd3298edd9-0', usage_metadata={'input_tokens': 2048, 'output_tokens': 95, 'total_tokens': 2143})]\n",
      "\u001b[36;1m\u001b[1;3m[3:checkpoint]\u001b[0m \u001b[1mState at the end of step 3:\n",
      "\u001b[0m{'messages': [HumanMessage(content='Which 5 counties had the highest number of RCRA violations and what were the totals?', additional_kwargs={}, response_metadata={}, id='c34d3f79-5f3d-4f5e-9b30-404d10ab1239'),\n",
      "              AIMessage(content='', additional_kwargs={}, response_metadata={'model': 'llama3.1:8b', 'created_at': '2025-04-25T03:43:14.0274Z', 'done': True, 'done_reason': 'stop', 'total_duration': 4826740041, 'load_duration': 1446504750, 'prompt_eval_count': 508, 'prompt_eval_duration': 2365198750, 'eval_count': 40, 'eval_duration': 1010548958, 'model_name': 'llama3.1:8b'}, id='run-8976fbdd-a678-45ae-b8ad-1f85409c5c8a-0', tool_calls=[{'name': 'sql_db_query', 'args': {'query': 'SELECT county, COUNT(*) as total FROM rcra_violations GROUP BY county ORDER BY total DESC LIMIT 5'}, 'id': 'a636316c-b5f3-40f8-975f-f4eeeaa63344', 'type': 'tool_call'}], usage_metadata={'input_tokens': 508, 'output_tokens': 40, 'total_tokens': 548}),\n",
      "              ToolMessage(content='Error: (sqlite3.OperationalError) no such column: county\\n[SQL: SELECT county, COUNT(*) as total FROM rcra_violations GROUP BY county ORDER BY total DESC LIMIT 5]\\n(Background on this error at: https://sqlalche.me/e/20/e3q8)', name='sql_db_query', id='05ca4c76-c6b0-4c7a-b2d9-2f7e85d6a9ac', tool_call_id='a636316c-b5f3-40f8-975f-f4eeeaa63344'),\n",
      "              AIMessage(content='To answer the question, we need to modify the SQL query to select from the `rcra_violations_emissions` table instead of `rcra_violations`. The correct SQL query would be:\\n\\n```sql\\nSELECT county, COUNT(*) as total \\nFROM rcra_violations_emissions \\nGROUP BY county \\nORDER BY total DESC \\nLIMIT 5;\\n```\\n\\nThis will return the top 5 counties by the number of RCRA violations emissions.', additional_kwargs={}, response_metadata={'model': 'llama3.1:8b', 'created_at': '2025-04-25T03:43:22.04712Z', 'done': True, 'done_reason': 'stop', 'total_duration': 8005329625, 'load_duration': 9895042, 'prompt_eval_count': 2048, 'prompt_eval_duration': 5076520042, 'eval_count': 95, 'eval_duration': 2916623916, 'model_name': 'llama3.1:8b'}, id='run-f2c0564b-70ef-401d-9056-23cd3298edd9-0', usage_metadata={'input_tokens': 2048, 'output_tokens': 95, 'total_tokens': 2143})]}\n",
      "==================================\u001b[1m Ai Message \u001b[0m==================================\n",
      "\n",
      "To answer the question, we need to modify the SQL query to select from the `rcra_violations_emissions` table instead of `rcra_violations`. The correct SQL query would be:\n",
      "\n",
      "```sql\n",
      "SELECT county, COUNT(*) as total \n",
      "FROM rcra_violations_emissions \n",
      "GROUP BY county \n",
      "ORDER BY total DESC \n",
      "LIMIT 5;\n",
      "```\n",
      "\n",
      "This will return the top 5 counties by the number of RCRA violations emissions.\n"
     ]
    }
   ],
   "source": [
    "agent_executor = create_react_agent(llm, tools=toolkit.get_tools(), prompt=system_message, debug=True)\n",
    "question = \"Which 5 counties had the highest number of RCRA violations and what were the totals?\"\n",
    "\n",
    "for step in agent_executor.stream(\n",
    "    {'messages': [{'role':'user', 'content': question}]},\n",
    "    stream_mode=\"values\",):\n",
    "    step['messages'][-1].pretty_print()\n",
    "\n",
    "\n",
    "# events = agent_executor.stream({'messages': [('user', user_input)]}, stream_mode=\"values\",)\n",
    "# for event in events:\n",
    "#     event['messages'][-1].pretty_print()"
   ]
  },
  {
   "cell_type": "markdown",
   "id": "42dc5d87",
   "metadata": {},
   "source": [
    "## LANGGRAPH QUICK START"
   ]
  },
  {
   "cell_type": "code",
   "execution_count": null,
   "id": "ced232f2",
   "metadata": {},
   "outputs": [],
   "source": [
    "## Our graph needs to handle two key tasks:\n",
    "## Each node can receive the current State as input and output an update to the state.\n",
    "## Updates to messages will be appended to the existing list rather than overwriting it, thanks to the prebuilt add_messages function used with the Annotated syntax.\n",
    "\n",
    "\n",
    "\n",
    "\n",
    "\n",
    "\n",
    "\n",
    "class State(TypedDict):\n",
    "    # Messages have the type \"list\". The `add_messages` function\n",
    "    # in the annotation defines how this state key should be updated\n",
    "    # (in this case, it appends messages to the list, rather than overwriting them)\n",
    "    messages: Annotated[list, add_messages]\n",
    "\n",
    "\n",
    "graph_builder = StateGraph(State)"
   ]
  },
  {
   "cell_type": "code",
   "execution_count": null,
   "id": "42fcfccf",
   "metadata": {},
   "outputs": [],
   "source": [
    "tools = [sql_query_chain]\n",
    "\n",
    "llm_with_tools = llm.bind_tools(tools)"
   ]
  },
  {
   "cell_type": "code",
   "execution_count": null,
   "id": "aa37db83",
   "metadata": {},
   "outputs": [
    {
     "data": {
      "image/png": "[encoded data removed]",
      "text/plain": [
       "<IPython.core.display.Image object>"
      ]
     },
     "metadata": {},
     "output_type": "display_data"
    }
   ],
   "source": [
    "## Next add a chatbot node. Nodes represent units of work. They are typically regular python functions.\n",
    "def chatbot(state: State):\n",
    "    return {\"messages\": [llm_with_tools.invoke(state[\"messages\"])]}\n",
    "\n",
    "# The first argument is the unique node name\n",
    "# The second argument is the function or object that will be called whenever\n",
    "# the node is used.\n",
    "graph_builder.add_node(\"chatbot\", chatbot)\n",
    "# graph_builder.add_edge(START, 'chatbot')\n",
    "# graph_builder.add_edge('chatbot', END)\n",
    "\n",
    "graph = graph_builder.compile()\n"
   ]
  },
  {
   "cell_type": "code",
   "execution_count": null,
   "id": "c77e5e3b",
   "metadata": {},
   "outputs": [],
   "source": [
    "\n",
    "\n",
    "try:\n",
    "    display(Image(graph.get_graph().draw_mermaid_png()))\n",
    "except Exception:\n",
    "    pass"
   ]
  },
  {
   "cell_type": "code",
   "execution_count": 4,
   "id": "39e92645",
   "metadata": {},
   "outputs": [
    {
     "name": "stdout",
     "output_type": "stream",
     "text": [
      "Assistant: I’m a large language model. When you ask me a question or provide me with a prompt, I analyze what you say and generate a response that is relevant and accurate. I'm constantly learning and improving, so over time I'll be even better at assisting you. Is there anything I can help you with?\n",
      "Assistant: The infamous US tax code! I'll provide an overview of the current state of the US tax code, but keep in mind that it's a complex and constantly evolving system. Here are some key aspects:\n",
      "\n",
      "**Structure:**\n",
      "\n",
      "1. **Internal Revenue Code (IRC):** The IRC is the primary law governing federal taxation in the United States. It consists of 26 chapters, each addressing a specific aspect of taxation.\n",
      "2. **Tax Laws:** Various tax laws, such as the Tax Cuts and Jobs Act (TCJA) of 2017, have amended the IRC over time.\n",
      "\n",
      "**Key Components:**\n",
      "\n",
      "1. **Income Tax:** The US has a progressive income tax system, with seven tax brackets ranging from 10% to 37%.\n",
      "2. **Tax Brackets:** Taxpayers are classified into different tax brackets based on their taxable income.\n",
      "3. **Standard Deduction and Itemized Deductions:** Taxpayers can choose between the standard deduction (a fixed amount) or itemize deductions (deduct specific expenses).\n",
      "4. **Tax Credits:** Tax credits directly reduce a taxpayer's liability, whereas deductions only reduce taxable income.\n",
      "\n",
      "**Major Tax Laws:**\n",
      "\n",
      "1. **Tax Cuts and Jobs Act (TCJA):** Signed into law in 2017, the TCJA made significant changes to individual and corporate tax rates.\n",
      "2. **Estate and Gift Tax:** The TCJA doubled the estate and gift tax exemption to $11.4 million per person (2023).\n",
      "3. **Alternative Minimum Tax (AMT):** A separate tax system designed to ensure high-income taxpayers pay a minimum amount of taxes.\n",
      "\n",
      "**Tax Forms:**\n",
      "\n",
      "1. **1040:** The most common form for individual income tax returns.\n",
      "2. **W-2 and 1099:** Forms used to report wages, salaries, and other income.\n",
      "3. **Schedule A:** Used for itemized deductions.\n",
      "\n",
      "**Tax Credits:**\n",
      "\n",
      "1. **Earned Income Tax Credit (EITC):** A refundable credit for low-to-moderate-income working individuals.\n",
      "2. **Child Tax Credit:** A non-refundable credit for families with qualifying children.\n",
      "3. **Education Credits:** The American Opportunity Tax Credit and the Lifetime Learning Credit.\n",
      "\n",
      "**Tax-Related Obligations:**\n",
      "\n",
      "1. **Filing Requirements:** Taxpayers must file a tax return if their gross income exceeds certain thresholds (e.g., $12,950 for single filers in 2022).\n",
      "2. **Payment Deadlines:** Quarterly estimated tax payments are due on April 15th, June 15th, September 15th, and January 15th of the following year.\n",
      "3. **Tax Audits:** The IRS may conduct audits to verify taxpayer compliance.\n",
      "\n",
      "**Other Key Aspects:**\n",
      "\n",
      "1. **State Taxes:** Each state has its own tax laws and rates, which can be more or less favorable than federal taxes.\n",
      "2. **Tax-Deferred Accounts:** 401(k), IRA, and Roth IRA accounts allow taxpayers to delay paying taxes on retirement savings.\n",
      "3. **Tax-Free Income:** Certain types of income, such as municipal bond interest and some scholarships, are tax-free.\n",
      "\n",
      "This is a condensed overview of the US tax code. If you have specific questions or need help with a particular aspect, feel free to ask!\n",
      "Goodbye!\n"
     ]
    }
   ],
   "source": [
    "def stream_graph_updates(user_input: str):\n",
    "    for event in graph.stream({\"messages\": [{\"role\": \"user\", \"content\": user_input}]}):\n",
    "        for value in event.values():\n",
    "            print(\"Assistant:\", value[\"messages\"][-1].content)\n",
    "\n",
    "\n",
    "while True:\n",
    "    try:\n",
    "        user_input = input(\"User: \")\n",
    "        if user_input.lower() in [\"quit\", \"exit\", \"q\"]:\n",
    "            print(\"Goodbye!\")\n",
    "            break\n",
    "        stream_graph_updates(user_input)\n",
    "    except:\n",
    "        # fallback if input() is not available\n",
    "        user_input = \"What do you know about LangGraph?\"\n",
    "        print(\"User: \" + user_input)\n",
    "        stream_graph_updates(user_input)\n",
    "        break"
   ]
  }
 ],
 "metadata": {
  "kernelspec": {
   "display_name": ".venv",
   "language": "python",
   "name": "python3"
  },
  "language_info": {
   "codemirror_mode": {
    "name": "ipython",
    "version": 3
   },
   "file_extension": ".py",
   "mimetype": "text/x-python",
   "name": "python",
   "nbconvert_exporter": "python",
   "pygments_lexer": "ipython3",
   "version": "3.10.16"
  }
 },
 "nbformat": 4,
 "nbformat_minor": 5
}
